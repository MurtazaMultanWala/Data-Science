{
  "nbformat": 4,
  "nbformat_minor": 0,
  "metadata": {
    "colab": {
      "name": "Naive_Bayes_Classification",
      "provenance": [],
      "collapsed_sections": []
    },
    "kernelspec": {
      "name": "python3",
      "display_name": "Python 3"
    },
    "accelerator": "GPU"
  },
  "cells": [
    {
      "cell_type": "code",
      "metadata": {
        "id": "rq0Qg8biZpLq",
        "colab_type": "code",
        "colab": {}
      },
      "source": [
        "import numpy as np\n",
        "import pandas as pd\n",
        "from math import pi\n",
        "from math import exp\n",
        "import math\n",
        "\n",
        "result = pd.DataFrame(  index = [i for i in range(1,11)],columns=[\"Refund\", \"Martial_Status\", \"Taxable_Income\", \n",
        "                               \"Evade\"])\n",
        "\n",
        "result[\"Refund\"] = [\"Yes\",\"No\",\"No\",\"Yes\",\"No\",\"No\",\"Yes\",\"No\",\"No\",\"No\"]\n",
        "result[\"Martial_Status\"] = [\"Single\",\"Married\",\"Single\",\"Married\",\"Divorced\",\"Married\",\"Divorced\",\"Single\",\"Married\",\"Single\"]\n",
        "result[\"Taxable_Income\"] = [125000,100000,70000,120000,95000,60000,220000,85000,75000,90000]\n",
        "result[\"Evade\"] = [\"No\",\"No\",\"No\",\"No\",\"Yes\",\"No\",\"No\",\"Yes\",\"No\",\"Yes\"]\n",
        "\n",
        "result[\"Taxable_Income\"]/=1000"
      ],
      "execution_count": 0,
      "outputs": []
    },
    {
      "cell_type": "code",
      "metadata": {
        "id": "1V4Tj7tD0qgY",
        "colab_type": "code",
        "colab": {}
      },
      "source": [
        "Table_Prob = { \n",
        "\"Labels\" : {  \n",
        "              \"Yes\":None, \n",
        "              \"No\": None\n",
        "           },\n",
        "\n",
        "\"Refund\" : { \n",
        "              \"Yes\": {\"Yes\": None, \"No\": None}, \n",
        "              \"No\" : {\"Yes\": None, \"No\": None}\n",
        "          },\n",
        "\"Martial_Status\" : {\n",
        "                      \"Single\":   {\"Yes\": None, \"No\": None},\n",
        "                      \"Married\":  {\"Yes\": None, \"No\": None},\n",
        "                      \"Divorced\": {\"Yes\": None, \"No\": None},\n",
        "                   },\n",
        "                     \n",
        "\"Taxable_Income\" : {\n",
        "                      \"Mean\" :      {\"Yes\": None, \"No\": None},\n",
        "                      \"Variance\" :  {\"Yes\": None, \"No\": None},\n",
        "                   }\n",
        "}"
      ],
      "execution_count": 0,
      "outputs": []
    },
    {
      "cell_type": "code",
      "metadata": {
        "id": "isdKo3ydayAi",
        "colab_type": "code",
        "outputId": "6556da9c-af69-42eb-bf25-613f6511b223",
        "colab": {
          "base_uri": "https://localhost:8080/",
          "height": 359
        }
      },
      "source": [
        "result"
      ],
      "execution_count": 0,
      "outputs": [
        {
          "output_type": "execute_result",
          "data": {
            "text/html": [
              "<div>\n",
              "<style scoped>\n",
              "    .dataframe tbody tr th:only-of-type {\n",
              "        vertical-align: middle;\n",
              "    }\n",
              "\n",
              "    .dataframe tbody tr th {\n",
              "        vertical-align: top;\n",
              "    }\n",
              "\n",
              "    .dataframe thead th {\n",
              "        text-align: right;\n",
              "    }\n",
              "</style>\n",
              "<table border=\"1\" class=\"dataframe\">\n",
              "  <thead>\n",
              "    <tr style=\"text-align: right;\">\n",
              "      <th></th>\n",
              "      <th>Refund</th>\n",
              "      <th>Martial_Status</th>\n",
              "      <th>Taxable_Income</th>\n",
              "      <th>Evade</th>\n",
              "    </tr>\n",
              "  </thead>\n",
              "  <tbody>\n",
              "    <tr>\n",
              "      <th>1</th>\n",
              "      <td>Yes</td>\n",
              "      <td>Single</td>\n",
              "      <td>125.0</td>\n",
              "      <td>No</td>\n",
              "    </tr>\n",
              "    <tr>\n",
              "      <th>2</th>\n",
              "      <td>No</td>\n",
              "      <td>Married</td>\n",
              "      <td>100.0</td>\n",
              "      <td>No</td>\n",
              "    </tr>\n",
              "    <tr>\n",
              "      <th>3</th>\n",
              "      <td>No</td>\n",
              "      <td>Single</td>\n",
              "      <td>70.0</td>\n",
              "      <td>No</td>\n",
              "    </tr>\n",
              "    <tr>\n",
              "      <th>4</th>\n",
              "      <td>Yes</td>\n",
              "      <td>Married</td>\n",
              "      <td>120.0</td>\n",
              "      <td>No</td>\n",
              "    </tr>\n",
              "    <tr>\n",
              "      <th>5</th>\n",
              "      <td>No</td>\n",
              "      <td>Divorced</td>\n",
              "      <td>95.0</td>\n",
              "      <td>Yes</td>\n",
              "    </tr>\n",
              "    <tr>\n",
              "      <th>6</th>\n",
              "      <td>No</td>\n",
              "      <td>Married</td>\n",
              "      <td>60.0</td>\n",
              "      <td>No</td>\n",
              "    </tr>\n",
              "    <tr>\n",
              "      <th>7</th>\n",
              "      <td>Yes</td>\n",
              "      <td>Divorced</td>\n",
              "      <td>220.0</td>\n",
              "      <td>No</td>\n",
              "    </tr>\n",
              "    <tr>\n",
              "      <th>8</th>\n",
              "      <td>No</td>\n",
              "      <td>Single</td>\n",
              "      <td>85.0</td>\n",
              "      <td>Yes</td>\n",
              "    </tr>\n",
              "    <tr>\n",
              "      <th>9</th>\n",
              "      <td>No</td>\n",
              "      <td>Married</td>\n",
              "      <td>75.0</td>\n",
              "      <td>No</td>\n",
              "    </tr>\n",
              "    <tr>\n",
              "      <th>10</th>\n",
              "      <td>No</td>\n",
              "      <td>Single</td>\n",
              "      <td>90.0</td>\n",
              "      <td>Yes</td>\n",
              "    </tr>\n",
              "  </tbody>\n",
              "</table>\n",
              "</div>"
            ],
            "text/plain": [
              "   Refund Martial_Status  Taxable_Income Evade\n",
              "1     Yes         Single           125.0    No\n",
              "2      No        Married           100.0    No\n",
              "3      No         Single            70.0    No\n",
              "4     Yes        Married           120.0    No\n",
              "5      No       Divorced            95.0   Yes\n",
              "6      No        Married            60.0    No\n",
              "7     Yes       Divorced           220.0    No\n",
              "8      No         Single            85.0   Yes\n",
              "9      No        Married            75.0    No\n",
              "10     No         Single            90.0   Yes"
            ]
          },
          "metadata": {
            "tags": []
          },
          "execution_count": 3
        }
      ]
    },
    {
      "cell_type": "code",
      "metadata": {
        "id": "GAu4ExTfa42G",
        "colab_type": "code",
        "colab": {}
      },
      "source": [
        "Count_of_No_In_Evade = list(result[\"Evade\"]==\"No\").count(True)\n",
        "Prob_of_No_In_Evade = Count_of_No_In_Evade / result[\"Evade\"].count()\n",
        "Table_Prob[\"Labels\"][\"No\"] = Prob_of_No_In_Evade\n",
        "\n",
        "Count_of_Yes_In_Evade = list(result[\"Evade\"]==\"No\").count(False)\n",
        "Prob_of_Yes_In_Evade = Count_of_Yes_In_Evade / result[\"Evade\"].count()\n",
        "Table_Prob[\"Labels\"][\"Yes\"] = Prob_of_Yes_In_Evade"
      ],
      "execution_count": 0,
      "outputs": []
    },
    {
      "cell_type": "code",
      "metadata": {
        "id": "XaXL0Fm8bCg2",
        "colab_type": "code",
        "outputId": "9dd190e8-e17b-497c-c273-112d82cf887b",
        "colab": {
          "base_uri": "https://localhost:8080/",
          "height": 51
        }
      },
      "source": [
        "print(\"Count_of_No_In_Evade: \" + str(Count_of_No_In_Evade))\n",
        "print(\"Count_of_Yes_In_Evade: \" + str(Count_of_Yes_In_Evade))"
      ],
      "execution_count": 0,
      "outputs": [
        {
          "output_type": "stream",
          "text": [
            "Count_of_No_In_Evade: 7\n",
            "Count_of_Yes_In_Evade: 3\n"
          ],
          "name": "stdout"
        }
      ]
    },
    {
      "cell_type": "code",
      "metadata": {
        "id": "4CVUGS2TcdmC",
        "colab_type": "code",
        "colab": {}
      },
      "source": [
        "Count_Refund_Yes_Given_No = result[\"Refund\"].where(result[\"Refund\"]==\"Yes\").where(result[\"Evade\"]==\"No\").count()\n",
        "Prob_Refund_Yes_Given_No = Count_Refund_Yes_Given_No / Count_of_No_In_Evade\n",
        "Table_Prob[\"Refund\"][\"Yes\"][\"No\"] = Prob_Refund_Yes_Given_No\n",
        "\n",
        "Count_Refund_No_Given_No = result[\"Refund\"].where(result[\"Refund\"]==\"No\").where(result[\"Evade\"]==\"No\").count()\n",
        "Prob_Refund_No_Given_No = Count_Refund_No_Given_No / Count_of_No_In_Evade\n",
        "Table_Prob[\"Refund\"][\"No\"][\"No\"] = Prob_Refund_No_Given_No\n",
        "\n",
        "Count_Refund_Yes_Given_Yes = result[\"Refund\"].where(result[\"Refund\"]==\"Yes\").where(result[\"Evade\"]==\"Yes\").count()\n",
        "Prob_Refund_Yes_Given_Yes = Count_Refund_Yes_Given_Yes / Count_of_Yes_In_Evade\n",
        "Table_Prob[\"Refund\"][\"Yes\"][\"Yes\"] = Prob_Refund_Yes_Given_Yes\n",
        "\n",
        "Count_Refund_No_Given_Yes = result[\"Refund\"].where(result[\"Refund\"]==\"No\").where(result[\"Evade\"]==\"Yes\").count()\n",
        "Prob_Refund_No_Given_Yes = Count_Refund_No_Given_Yes / Count_of_Yes_In_Evade\n",
        "Table_Prob[\"Refund\"][\"No\"][\"Yes\"] = Prob_Refund_No_Given_Yes"
      ],
      "execution_count": 0,
      "outputs": []
    },
    {
      "cell_type": "code",
      "metadata": {
        "id": "M5AMeZYjce-R",
        "colab_type": "code",
        "outputId": "b3330766-81b7-4c7e-e4aa-9db15dcafd8e",
        "colab": {
          "base_uri": "https://localhost:8080/",
          "height": 221
        }
      },
      "source": [
        "print(\"\\nCount_Refund_Yes_Given_No: \" + str(Count_Refund_Yes_Given_No))\n",
        "print(\"Prob_Refund_Yes_Given_No: \" + str(Prob_Refund_Yes_Given_No))\n",
        "\n",
        "print(\"\\nCount_Refund_No_Given_No: \" + str(Count_Refund_No_Given_No))\n",
        "print(\"Prob_Refund_No_Given_No: \" + str(Prob_Refund_No_Given_No))\n",
        "\n",
        "print(\"\\nCount_Refund_Yes_Given_Yes: \" + str(Count_Refund_Yes_Given_Yes))\n",
        "print(\"Prob_Refund_Yes_Given_Yes: \" + str(Prob_Refund_Yes_Given_Yes))\n",
        "\n",
        "print(\"\\nCount_Refund_No_Given_Yes: \" + str(Count_Refund_No_Given_Yes))\n",
        "print(\"Prob_Refund_No_Given_Yes: \" + str(Prob_Refund_No_Given_Yes))\n"
      ],
      "execution_count": 0,
      "outputs": [
        {
          "output_type": "stream",
          "text": [
            "\n",
            "Count_Refund_Yes_Given_No: 3\n",
            "Prob_Refund_Yes_Given_No: 0.42857142857142855\n",
            "\n",
            "Count_Refund_No_Given_No: 4\n",
            "Prob_Refund_No_Given_No: 0.5714285714285714\n",
            "\n",
            "Count_Refund_Yes_Given_Yes: 0\n",
            "Prob_Refund_Yes_Given_Yes: 0.0\n",
            "\n",
            "Count_Refund_No_Given_Yes: 3\n",
            "Prob_Refund_No_Given_Yes: 1.0\n"
          ],
          "name": "stdout"
        }
      ]
    },
    {
      "cell_type": "code",
      "metadata": {
        "id": "J-RuEwsVeS_i",
        "colab_type": "code",
        "colab": {}
      },
      "source": [
        "Count_Martial_Status_Single_Given_No = result[\"Martial_Status\"].where(result[\"Martial_Status\"]==\"Single\").where(result[\"Evade\"]==\"No\").count()\n",
        "Prob_Martial_Status_Single_Given_No = Count_Martial_Status_Single_Given_No / Count_of_No_In_Evade\n",
        "Table_Prob[\"Martial_Status\"][\"Single\"][\"No\"] = Prob_Martial_Status_Single_Given_No\n",
        "\n",
        "Count_Martial_Status_Married_Given_No = result[\"Martial_Status\"].where(result[\"Martial_Status\"]==\"Married\").where(result[\"Evade\"]==\"No\").count()\n",
        "Prob_Martial_Status_Married_Given_No = Count_Martial_Status_Married_Given_No / Count_of_No_In_Evade\n",
        "Table_Prob[\"Martial_Status\"][\"Married\"][\"No\"] = Prob_Martial_Status_Married_Given_No\n",
        "\n",
        "Count_Martial_Status_Divorced_Given_No = result[\"Martial_Status\"].where(result[\"Martial_Status\"]==\"Divorced\").where(result[\"Evade\"]==\"No\").count()\n",
        "Prob_Martial_Status_Divorced_Given_No = Count_Martial_Status_Divorced_Given_No / Count_of_No_In_Evade\n",
        "Table_Prob[\"Martial_Status\"][\"Divorced\"][\"No\"] = Prob_Martial_Status_Divorced_Given_No\n",
        "\n",
        "\n",
        "Count_Martial_Status_Single_Given_Yes = result[\"Martial_Status\"].where(result[\"Martial_Status\"]==\"Single\").where(result[\"Evade\"]==\"Yes\").count()\n",
        "Prob_Martial_Status_Single_Given_Yes = Count_Martial_Status_Single_Given_Yes / Count_of_Yes_In_Evade\n",
        "Table_Prob[\"Martial_Status\"][\"Single\"][\"Yes\"] = Prob_Martial_Status_Single_Given_Yes\n",
        "\n",
        "Count_Martial_Status_Married_Given_Yes = result[\"Martial_Status\"].where(result[\"Martial_Status\"]==\"Married\").where(result[\"Evade\"]==\"Yes\").count()\n",
        "Prob_Martial_Status_Married_Given_Yes = Count_Martial_Status_Married_Given_Yes / Count_of_Yes_In_Evade\n",
        "Table_Prob[\"Martial_Status\"][\"Married\"][\"Yes\"] = Prob_Martial_Status_Married_Given_Yes\n",
        "\n",
        "Count_Martial_Status_Divorced_Given_Yes = result[\"Martial_Status\"].where(result[\"Martial_Status\"]==\"Divorced\").where(result[\"Evade\"]==\"Yes\").count()\n",
        "Prob_Martial_Status_Divorced_Given_Yes = Count_Martial_Status_Divorced_Given_Yes / Count_of_Yes_In_Evade\n",
        "Table_Prob[\"Martial_Status\"][\"Divorced\"][\"Yes\"] = Prob_Martial_Status_Divorced_Given_Yes"
      ],
      "execution_count": 0,
      "outputs": []
    },
    {
      "cell_type": "code",
      "metadata": {
        "id": "fhLp2QB4ir20",
        "colab_type": "code",
        "outputId": "99c9ee37-3c48-4275-d13f-8265c8c68662",
        "colab": {
          "base_uri": "https://localhost:8080/",
          "height": 323
        }
      },
      "source": [
        "print(\"\\nCount_Martial_Status_Single_Given_No: \" + str(Count_Martial_Status_Single_Given_No))\n",
        "print(\"Prob_Martial_Status_Single_Given_No: \" + str(Prob_Martial_Status_Single_Given_No))\n",
        "\n",
        "print(\"\\nCount_Martial_Status_Married_Given_No: \" + str(Count_Martial_Status_Married_Given_No))\n",
        "print(\"Prob_Martial_Status_Married_Given_No: \" + str(Prob_Martial_Status_Married_Given_No))\n",
        "\n",
        "print(\"\\nCount_Martial_Status_Divorced_Given_No: \" + str(Count_Martial_Status_Divorced_Given_No))\n",
        "print(\"Prob_Martial_Status_Divorced_Given_No: \" + str(Prob_Martial_Status_Divorced_Given_No))\n",
        "\n",
        "print(\"\\nCount_Martial_Status_Single_Given_Yes: \" + str(Count_Martial_Status_Single_Given_Yes))\n",
        "print(\"Prob_Martial_Status_Single_Given_Yes: \" + str(Prob_Martial_Status_Single_Given_Yes))\n",
        "\n",
        "print(\"\\nCount_Martial_Status_Married_Given_Yes: \" + str(Count_Martial_Status_Married_Given_Yes))\n",
        "print(\"Prob_Martial_Status_Married_Given_Yes: \" + str(Prob_Martial_Status_Married_Given_Yes))\n",
        "\n",
        "print(\"\\nCount_Martial_Status_Divorced_Given_Yes: \" + str(Count_Martial_Status_Divorced_Given_Yes))\n",
        "print(\"Prob_Martial_Status_Divorced_Given_Yes: \" + str(Prob_Martial_Status_Divorced_Given_Yes))\n"
      ],
      "execution_count": 0,
      "outputs": [
        {
          "output_type": "stream",
          "text": [
            "\n",
            "Count_Martial_Status_Single_Given_No: 2\n",
            "Prob_Martial_Status_Single_Given_No: 0.2857142857142857\n",
            "\n",
            "Count_Martial_Status_Married_Given_No: 4\n",
            "Prob_Martial_Status_Married_Given_No: 0.5714285714285714\n",
            "\n",
            "Count_Martial_Status_Divorced_Given_No: 1\n",
            "Prob_Martial_Status_Divorced_Given_No: 0.14285714285714285\n",
            "\n",
            "Count_Martial_Status_Single_Given_Yes: 2\n",
            "Prob_Martial_Status_Single_Given_Yes: 0.6666666666666666\n",
            "\n",
            "Count_Martial_Status_Married_Given_Yes: 0\n",
            "Prob_Martial_Status_Married_Given_Yes: 0.0\n",
            "\n",
            "Count_Martial_Status_Divorced_Given_Yes: 1\n",
            "Prob_Martial_Status_Divorced_Given_Yes: 0.3333333333333333\n"
          ],
          "name": "stdout"
        }
      ]
    },
    {
      "cell_type": "code",
      "metadata": {
        "id": "Y9CpnCvZj-kl",
        "colab_type": "code",
        "colab": {}
      },
      "source": [
        "Mean_Taxable_Income_Given_No = result[\"Taxable_Income\"].where(result[\"Evade\"]==\"No\").mean()\n",
        "Std_Taxable_Income_Given_No = result[\"Taxable_Income\"].where(result[\"Evade\"]==\"No\").std()\n",
        "Variance_Taxable_Income_Given_No = Std_Taxable_Income_Given_No ** 2\n",
        "\n",
        "Table_Prob[\"Taxable_Income\"][\"Mean\"][\"No\"] = Mean_Taxable_Income_Given_No\n",
        "Table_Prob[\"Taxable_Income\"][\"Variance\"][\"No\"] =  Variance_Taxable_Income_Given_No\n",
        "\n",
        "\n",
        "\n",
        "Mean_Taxable_Income_Given_Yes = result[\"Taxable_Income\"].where(result[\"Evade\"]==\"Yes\").mean()\n",
        "Std_Taxable_Income_Given_Yes = result[\"Taxable_Income\"].where(result[\"Evade\"]==\"Yes\").std()\n",
        "Variance_Taxable_Income_Given_Yes = Std_Taxable_Income_Given_Yes ** 2\n",
        "\n",
        "Table_Prob[\"Taxable_Income\"][\"Mean\"][\"Yes\"] = Mean_Taxable_Income_Given_Yes\n",
        "Table_Prob[\"Taxable_Income\"][\"Variance\"][\"Yes\"] =  Variance_Taxable_Income_Given_Yes"
      ],
      "execution_count": 0,
      "outputs": []
    },
    {
      "cell_type": "code",
      "metadata": {
        "id": "shO4tOscpsgT",
        "colab_type": "code",
        "outputId": "acdef400-00e2-4a5c-fc8f-7e53e2b75e95",
        "colab": {
          "base_uri": "https://localhost:8080/",
          "height": 153
        }
      },
      "source": [
        "print(\"\\nMean_Taxable_Income_Given_No: \"+ str(Mean_Taxable_Income_Given_No))\n",
        "print(\"Std_Taxable_Income_Given_No: \"+ str(Std_Taxable_Income_Given_No))\n",
        "print(\"Variance_Taxable_Income_Given_No: \"+ str(Variance_Taxable_Income_Given_No))\n",
        "\n",
        "print(\"\\nMean_Taxable_Income_Given_Yes: \"+ str(Mean_Taxable_Income_Given_Yes))\n",
        "print(\"Std_Taxable_Income_Given_Yes: \"+ str(Std_Taxable_Income_Given_Yes))\n",
        "print(\"Variance_Taxable_Income_Given_Yes: \"+ str(Variance_Taxable_Income_Given_Yes))"
      ],
      "execution_count": 0,
      "outputs": [
        {
          "output_type": "stream",
          "text": [
            "\n",
            "Mean_Taxable_Income_Given_No: 110.0\n",
            "Std_Taxable_Income_Given_No: 54.543560573178574\n",
            "Variance_Taxable_Income_Given_No: 2975.0000000000005\n",
            "\n",
            "Mean_Taxable_Income_Given_Yes: 90.0\n",
            "Std_Taxable_Income_Given_Yes: 5.0\n",
            "Variance_Taxable_Income_Given_Yes: 25.0\n"
          ],
          "name": "stdout"
        }
      ]
    },
    {
      "cell_type": "code",
      "metadata": {
        "id": "LQ41b-AO6iMY",
        "colab_type": "code",
        "outputId": "138ad8ed-5f44-4db3-e99d-ffd5b1d4a3b0",
        "colab": {
          "base_uri": "https://localhost:8080/",
          "height": 105
        }
      },
      "source": [
        "for i,j in Table_Prob.items():\n",
        "  print(i,j)"
      ],
      "execution_count": 0,
      "outputs": [
        {
          "output_type": "stream",
          "text": [
            "Labels {'Yes': 0.3, 'No': 0.7}\n",
            "Refund {'Yes': {'Yes': 0.0, 'No': 0.42857142857142855}, 'No': {'Yes': 1.0, 'No': 0.5714285714285714}}\n",
            "Martial_Status {'Single': {'Yes': 0.6666666666666666, 'No': 0.2857142857142857}, 'Married': {'Yes': 0.0, 'No': 0.5714285714285714}, 'Divorced': {'Yes': 0.3333333333333333, 'No': 0.14285714285714285}}\n",
            "Taxable_Income {'Mean': {'Yes': 90.0, 'No': 110.0}, 'Variance': {'Yes': 25.0, 'No': 2975.0000000000005}}\n"
          ],
          "name": "stdout"
        }
      ]
    },
    {
      "cell_type": "code",
      "metadata": {
        "id": "0OLhWAsZwyvM",
        "colab_type": "code",
        "colab": {}
      },
      "source": [
        "def Continous_Probability(Value):\n",
        "  Final_Results = {\"Yes\": None, \"No\": None}\n",
        "  Label = [\"Yes\", \"No\"]\n",
        "  \n",
        "  for i,Label in zip(range(2),Label):\n",
        "    First_Part = 1 / math.sqrt(2 * pi * Table_Prob[\"Taxable_Income\"][\"Variance\"][Label] ) \n",
        "    Second_Part_Numirator = (Value - Table_Prob[\"Taxable_Income\"][\"Mean\"][Label]) ** 2\n",
        "    Second_Part_Denominator = 2 * Table_Prob[\"Taxable_Income\"][\"Variance\"][Label]\n",
        "    Result = exp(  First_Part * ( - ( Second_Part_Numirator / Second_Part_Denominator ) ) )\n",
        "\n",
        "    Final_Results[Label] = Result\n",
        "\n",
        "  return Final_Results"
      ],
      "execution_count": 0,
      "outputs": []
    },
    {
      "cell_type": "code",
      "metadata": {
        "id": "BAbsoSjt6yPQ",
        "colab_type": "code",
        "colab": {}
      },
      "source": [
        "def Run_Query(Refund, Martial_Status, Income):\n",
        "\n",
        "  Refund_Prob = Table_Prob[\"Refund\"][Refund]\n",
        "  Martial_Status_Prob = Table_Prob[\"Martial_Status\"][Martial_Status]\n",
        "  Income_Prob = Continous_Probability(Income)\n",
        "\n",
        "  Prob_for_Class_Yes = Refund_Prob[\"Yes\"] *  Martial_Status_Prob[\"Yes\"] * Income_Prob[\"Yes\"] * Table_Prob[\"Labels\"][\"Yes\"]\n",
        "  Prob_for_Class_No =  Refund_Prob[\"No\"] *  Martial_Status_Prob[\"No\"] * Income_Prob[\"No\"] * Table_Prob[\"Labels\"][\"No\"]\n",
        "\n",
        "  print(\"\\nProb_for_Class_Yes: \"+ str(Prob_for_Class_Yes))\n",
        "  print(\"\\nProb_for_Class_No: \"+ str(Prob_for_Class_No))\n",
        "  print()\n",
        "\n",
        "  if Prob_for_Class_Yes > Prob_for_Class_No:\n",
        "    print(\"Predicted As Evade = Yes\")\n",
        "  else:\n",
        "    print(\"Predicted As Evade = No\")"
      ],
      "execution_count": 0,
      "outputs": []
    },
    {
      "cell_type": "markdown",
      "metadata": {
        "id": "KY1cHuDj5iyJ",
        "colab_type": "text"
      },
      "source": [
        "# **Testing Queries**"
      ]
    },
    {
      "cell_type": "code",
      "metadata": {
        "id": "iwDoFziuzy1w",
        "colab_type": "code",
        "outputId": "b3e4e172-069c-454f-d4d1-ef79e11671f4",
        "colab": {
          "base_uri": "https://localhost:8080/",
          "height": 119
        }
      },
      "source": [
        "# X1 = {Refund = Yes, Status = Divorced, Income = 90K, Evade = ?}\n",
        "Run_Query(\"Yes\", \"Divorced\", 90.0)"
      ],
      "execution_count": 0,
      "outputs": [
        {
          "output_type": "stream",
          "text": [
            "\n",
            "Prob_for_Class_Yes: 0.0\n",
            "\n",
            "Prob_for_Class_No: 0.04283607472411719\n",
            "\n",
            "Predicted As Evade = No\n"
          ],
          "name": "stdout"
        }
      ]
    },
    {
      "cell_type": "code",
      "metadata": {
        "id": "GXZCsOLQ5eQI",
        "colab_type": "code",
        "outputId": "d6f61f41-1168-4279-8ed5-99f6a23ac1fb",
        "colab": {
          "base_uri": "https://localhost:8080/",
          "height": 119
        }
      },
      "source": [
        "# X2 = {Refund = No, Status = Married, Income = 60K, Evade = ?}\n",
        "Run_Query(\"No\", \"Married\", 60.0)"
      ],
      "execution_count": 0,
      "outputs": [
        {
          "output_type": "stream",
          "text": [
            "\n",
            "Prob_for_Class_Yes: 0.0\n",
            "\n",
            "Prob_for_Class_No: 0.22787006306659638\n",
            "\n",
            "Predicted As Evade = No\n"
          ],
          "name": "stdout"
        }
      ]
    },
    {
      "cell_type": "code",
      "metadata": {
        "id": "DMD2dlnR_wvQ",
        "colab_type": "code",
        "outputId": "7f71dc22-244f-4ec9-a0c3-df0c983ab916",
        "colab": {
          "base_uri": "https://localhost:8080/",
          "height": 1000
        }
      },
      "source": [
        "for refund, martial_status, income in zip(result[\"Refund\"], result[\"Martial_Status\"], result[\"Taxable_Income\"]):\n",
        "  print(\"\\n**********************************************************\")\n",
        "  Run_Query(refund, martial_status, income)"
      ],
      "execution_count": 0,
      "outputs": [
        {
          "output_type": "stream",
          "text": [
            "\n",
            "**********************************************************\n",
            "\n",
            "Prob_for_Class_Yes: 0.0\n",
            "\n",
            "Prob_for_Class_No: 0.08569058151526818\n",
            "\n",
            "Predicted As Evade = No\n",
            "\n",
            "**********************************************************\n",
            "\n",
            "Prob_for_Class_Yes: 0.0\n",
            "\n",
            "Prob_for_Class_No: 0.2285433325474695\n",
            "\n",
            "Predicted As Evade = No\n",
            "\n",
            "**********************************************************\n",
            "\n",
            "Prob_for_Class_Yes: 0.10563710872313713\n",
            "\n",
            "Prob_for_Class_No: 0.11406115318919856\n",
            "\n",
            "Predicted As Evade = No\n",
            "\n",
            "**********************************************************\n",
            "\n",
            "Prob_for_Class_Yes: 0.0\n",
            "\n",
            "Prob_for_Class_No: 0.17140749941060213\n",
            "\n",
            "Predicted As Evade = No\n",
            "\n",
            "**********************************************************\n",
            "\n",
            "Prob_for_Class_Yes: 0.0960891069109017\n",
            "\n",
            "Prob_for_Class_No: 0.05712705434351211\n",
            "\n",
            "Predicted As Evade = Yes\n",
            "\n",
            "**********************************************************\n",
            "\n",
            "Prob_for_Class_Yes: 0.0\n",
            "\n",
            "Prob_for_Class_No: 0.22787006306659638\n",
            "\n",
            "Predicted As Evade = No\n",
            "\n",
            "**********************************************************\n",
            "\n",
            "Prob_for_Class_Yes: 0.0\n",
            "\n",
            "Prob_for_Class_No: 0.04222439264136121\n",
            "\n",
            "Predicted As Evade = No\n",
            "\n",
            "**********************************************************\n",
            "\n",
            "Prob_for_Class_Yes: 0.1921782138218034\n",
            "\n",
            "Prob_for_Class_No: 0.11419794253594481\n",
            "\n",
            "Predicted As Evade = Yes\n",
            "\n",
            "**********************************************************\n",
            "\n",
            "Prob_for_Class_Yes: 0.0\n",
            "\n",
            "Prob_for_Class_No: 0.22822749015031263\n",
            "\n",
            "Predicted As Evade = No\n",
            "\n",
            "**********************************************************\n",
            "\n",
            "Prob_for_Class_Yes: 0.19999999999999998\n",
            "\n",
            "Prob_for_Class_No: 0.11422953259764584\n",
            "\n",
            "Predicted As Evade = Yes\n"
          ],
          "name": "stdout"
        }
      ]
    },
    {
      "cell_type": "code",
      "metadata": {
        "id": "bp5exS4wBfZi",
        "colab_type": "code",
        "colab": {}
      },
      "source": [
        ""
      ],
      "execution_count": 0,
      "outputs": []
    }
  ]
}