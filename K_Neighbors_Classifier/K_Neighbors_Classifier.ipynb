{
  "nbformat": 4,
  "nbformat_minor": 0,
  "metadata": {
    "colab": {
      "name": "K_Neighbors_Classifier",
      "provenance": [],
      "collapsed_sections": [],
      "toc_visible": true
    },
    "kernelspec": {
      "name": "python3",
      "display_name": "Python 3"
    },
    "accelerator": "GPU"
  },
  "cells": [
    {
      "cell_type": "code",
      "metadata": {
        "id": "V6YTUpHUxqq5",
        "colab_type": "code",
        "colab": {}
      },
      "source": [
        "import pandas\n",
        "from sklearn.model_selection import train_test_split\n",
        "from sklearn.metrics import classification_report\n",
        "from sklearn.metrics import confusion_matrix\n",
        "from sklearn.metrics import accuracy_score\n",
        "from sklearn.neighbors import KNeighborsClassifier"
      ],
      "execution_count": 0,
      "outputs": []
    },
    {
      "cell_type": "code",
      "metadata": {
        "id": "8G_ZVmsuBQPg",
        "colab_type": "code",
        "colab": {}
      },
      "source": [
        "iris_path = \"/content/drive/My Drive/Semester 8/DSci/Lab/Lab4/Iris/iris.data\"\n",
        "data_training_path = \"/content/drive/My Drive/Semester 8/DSci/Lab/Lab4/Occupency_Detection/datatraining.txt\"\n",
        "data_test1_path = \"/content/drive/My Drive/Semester 8/DSci/Lab/Lab4/Occupency_Detection/datatest.txt\"\n",
        "data_test2_path = \"/content/drive/My Drive/Semester 8/DSci/Lab/Lab4/Occupency_Detection/datatest2.txt\""
      ],
      "execution_count": 0,
      "outputs": []
    },
    {
      "cell_type": "code",
      "metadata": {
        "id": "yRRfnVbcxvxf",
        "colab_type": "code",
        "colab": {}
      },
      "source": [
        "names = ['sepal-length', 'sepal-width', 'petal-length', 'petal-width', 'class']\n",
        "dataset = pandas.read_csv(iris_path, names=names)"
      ],
      "execution_count": 0,
      "outputs": []
    },
    {
      "cell_type": "code",
      "metadata": {
        "id": "fciOsUZUx1Fr",
        "colab_type": "code",
        "outputId": "62cf2c37-dfef-448f-d3ab-e272ba11b4df",
        "colab": {
          "base_uri": "https://localhost:8080/",
          "height": 34
        }
      },
      "source": [
        "dataset.shape"
      ],
      "execution_count": 0,
      "outputs": [
        {
          "output_type": "execute_result",
          "data": {
            "text/plain": [
              "(150, 5)"
            ]
          },
          "metadata": {
            "tags": []
          },
          "execution_count": 5
        }
      ]
    },
    {
      "cell_type": "code",
      "metadata": {
        "id": "bVdGM76CyTwp",
        "colab_type": "code",
        "outputId": "9bde1e73-1bf7-475b-c1c6-9b0ab5640703",
        "colab": {
          "base_uri": "https://localhost:8080/",
          "height": 102
        }
      },
      "source": [
        "dataset.groupby('class').size()"
      ],
      "execution_count": 0,
      "outputs": [
        {
          "output_type": "execute_result",
          "data": {
            "text/plain": [
              "class\n",
              "Iris-setosa        50\n",
              "Iris-versicolor    50\n",
              "Iris-virginica     50\n",
              "dtype: int64"
            ]
          },
          "metadata": {
            "tags": []
          },
          "execution_count": 6
        }
      ]
    },
    {
      "cell_type": "code",
      "metadata": {
        "id": "pfgc5SgAyXY9",
        "colab_type": "code",
        "colab": {}
      },
      "source": [
        "array = dataset.values\n",
        "X = array[:,0:4]\n",
        "Y = array[:,4]\n",
        "t_size = 0.20\n",
        "seed = 7\n",
        "X_train, X_test, Y_train, Y_test = train_test_split(X, Y, test_size=t_size,\n",
        "random_state=seed)\n",
        "\n",
        "# display(Y)\n",
        "# display(Y_train)\n",
        "# display(Y_test)"
      ],
      "execution_count": 0,
      "outputs": []
    },
    {
      "cell_type": "code",
      "metadata": {
        "id": "zRJMXwXfyguV",
        "colab_type": "code",
        "outputId": "d6aec8c6-ba77-4db8-cae8-633e57299271",
        "colab": {
          "base_uri": "https://localhost:8080/",
          "height": 255
        }
      },
      "source": [
        "knn = KNeighborsClassifier()\n",
        "knn.fit(X_train, Y_train)\n",
        "predictions = knn.predict(X_test)\n",
        "print(accuracy_score(Y_test, predictions))\n",
        "print(confusion_matrix(Y_test, predictions))\n",
        "print(classification_report(Y_test, predictions))"
      ],
      "execution_count": 0,
      "outputs": [
        {
          "output_type": "stream",
          "text": [
            "0.9\n",
            "[[ 7  0  0]\n",
            " [ 0 11  1]\n",
            " [ 0  2  9]]\n",
            "                 precision    recall  f1-score   support\n",
            "\n",
            "    Iris-setosa       1.00      1.00      1.00         7\n",
            "Iris-versicolor       0.85      0.92      0.88        12\n",
            " Iris-virginica       0.90      0.82      0.86        11\n",
            "\n",
            "       accuracy                           0.90        30\n",
            "      macro avg       0.92      0.91      0.91        30\n",
            "   weighted avg       0.90      0.90      0.90        30\n",
            "\n"
          ],
          "name": "stdout"
        }
      ]
    },
    {
      "cell_type": "code",
      "metadata": {
        "id": "anLpGWaGyjxY",
        "colab_type": "code",
        "outputId": "5d113d0c-9dc6-4ef0-ee37-386cc289e701",
        "colab": {
          "base_uri": "https://localhost:8080/",
          "height": 170
        }
      },
      "source": [
        "for i in range(1,10):\n",
        "  knn = KNeighborsClassifier(i)\n",
        "  knn.fit(X_train, Y_train)\n",
        "  predictions = knn.predict(X_test)\n",
        "  print(\"Accuracy= \",accuracy_score(Y_test, predictions))\n"
      ],
      "execution_count": 0,
      "outputs": [
        {
          "output_type": "stream",
          "text": [
            "Accuracy=  0.9\n",
            "Accuracy=  0.9333333333333333\n",
            "Accuracy=  0.9\n",
            "Accuracy=  0.9333333333333333\n",
            "Accuracy=  0.9\n",
            "Accuracy=  0.8666666666666667\n",
            "Accuracy=  0.8666666666666667\n",
            "Accuracy=  0.9\n",
            "Accuracy=  0.9\n"
          ],
          "name": "stdout"
        }
      ]
    },
    {
      "cell_type": "code",
      "metadata": {
        "id": "8GfZsGzuy8Bq",
        "colab_type": "code",
        "outputId": "eb24352c-f14f-4d0b-b1f0-a08979572238",
        "colab": {
          "base_uri": "https://localhost:8080/",
          "height": 170
        }
      },
      "source": [
        "for i in range(1,10):\n",
        "  X_train, X_test, Y_train, Y_test = train_test_split(X, Y, test_size=t_size,\n",
        "random_state=i)\n",
        "  knn = KNeighborsClassifier(i)\n",
        "  knn.fit(X_train, Y_train)\n",
        "  predictions = knn.predict(X_test)\n",
        "  print(\"Seed= {0},  Accuracy= {1} \".format(i,accuracy_score(Y_test, predictions)))\n"
      ],
      "execution_count": 0,
      "outputs": [
        {
          "output_type": "stream",
          "text": [
            "Seed= 1,  Accuracy= 1.0 \n",
            "Seed= 2,  Accuracy= 1.0 \n",
            "Seed= 3,  Accuracy= 0.9666666666666667 \n",
            "Seed= 4,  Accuracy= 0.9666666666666667 \n",
            "Seed= 5,  Accuracy= 0.9333333333333333 \n",
            "Seed= 6,  Accuracy= 1.0 \n",
            "Seed= 7,  Accuracy= 0.8666666666666667 \n",
            "Seed= 8,  Accuracy= 0.9666666666666667 \n",
            "Seed= 9,  Accuracy= 1.0 \n"
          ],
          "name": "stdout"
        }
      ]
    },
    {
      "cell_type": "markdown",
      "metadata": {
        "id": "lxBOOTDqBAkD",
        "colab_type": "text"
      },
      "source": [
        "# **Question #2**"
      ]
    },
    {
      "cell_type": "code",
      "metadata": {
        "id": "uKOmE5-KzO8o",
        "colab_type": "code",
        "colab": {}
      },
      "source": [
        "# Repeat (I) using Occupancy Detection dataset. Ignore Date Attribute. Off course, steps (d)\n",
        "# and (g) are not applicable since training / test data is given.\n",
        "names= [\"Date\",\"Temperature\",\t\"Humidity\",\t\"Light\",\t\"CO2\",\t\"HumidityRatio\",\t\"Occupancy\"]\n",
        "dataset = pandas.read_csv(data_training_path, names=names, header=0)\n",
        "dataset.drop(dataset.columns[0], axis=1, inplace=True)\n",
        "# display(dataset)"
      ],
      "execution_count": 0,
      "outputs": []
    },
    {
      "cell_type": "markdown",
      "metadata": {
        "id": "e-oGYn6V19C7",
        "colab_type": "text"
      },
      "source": [
        ""
      ]
    },
    {
      "cell_type": "code",
      "metadata": {
        "id": "ReKqCYT51poc",
        "colab_type": "code",
        "colab": {}
      },
      "source": [
        "names= [\"Date\",\"Temperature\",\t\"Humidity\",\t\"Light\",\t\"CO2\",\t\"HumidityRatio\",\t\"Occupancy\"]\n",
        "\n",
        "dataset_test1 = pandas.read_csv(data_test1_path, names=names, header=0)\n",
        "dataset_test2 = pandas.read_csv(data_test2_path, names=names, header=0)\n",
        "\n",
        "dataset_test1.drop(dataset_test1.columns[0], axis=1, inplace=True)\n",
        "dataset_test2.drop(dataset_test2.columns[0], axis=1, inplace=True)\n",
        "\n",
        "# display(dataset_test1)\n",
        "# display(dataset_test2)"
      ],
      "execution_count": 0,
      "outputs": []
    },
    {
      "cell_type": "code",
      "metadata": {
        "id": "sJ27EVKy1rzY",
        "colab_type": "code",
        "outputId": "a9ba8a37-ef48-4f2f-95d1-baa9d27047ac",
        "colab": {
          "base_uri": "https://localhost:8080/",
          "height": 51
        }
      },
      "source": [
        "display(dataset_test1.shape)\n",
        "display(dataset_test2.shape)"
      ],
      "execution_count": 0,
      "outputs": [
        {
          "output_type": "display_data",
          "data": {
            "text/plain": [
              "(2665, 6)"
            ]
          },
          "metadata": {
            "tags": []
          }
        },
        {
          "output_type": "display_data",
          "data": {
            "text/plain": [
              "(9752, 6)"
            ]
          },
          "metadata": {
            "tags": []
          }
        }
      ]
    },
    {
      "cell_type": "code",
      "metadata": {
        "id": "qb2YS97k6klj",
        "colab_type": "code",
        "colab": {}
      },
      "source": [
        "array = dataset.values\n",
        "X_train = array[:,0:5]\n",
        "Y_train = array[:,5]\n",
        "# display(X_train)\n",
        "# display(Y_train)\n",
        "\n",
        "\n",
        "array_test1 = dataset_test1.values\n",
        "X_test1 = array_test1[:,0:5]\n",
        "Y_test1 = array_test1[:,5]\n",
        "\n",
        "# display(X_test1)\n",
        "# display(Y_test1)\n",
        "\n",
        "\n",
        "array_test2 = dataset_test2.values\n",
        "X_test2 = array_test2[:,0:5]\n",
        "Y_test2 = array_test2[:,5]\n",
        "\n",
        "\n",
        "# display(X_test2)\n",
        "# display(Y_test2)"
      ],
      "execution_count": 0,
      "outputs": []
    },
    {
      "cell_type": "code",
      "metadata": {
        "id": "Cj3N2OO-6q4v",
        "colab_type": "code",
        "outputId": "7d57206b-2dbf-4cc4-969f-ae16d8b21de7",
        "colab": {
          "base_uri": "https://localhost:8080/",
          "height": 408
        }
      },
      "source": [
        "knn = KNeighborsClassifier()\n",
        "knn.fit(X_train, Y_train)\n",
        "predictions = knn.predict(X_test1)\n",
        "print(accuracy_score(Y_test1, predictions))\n",
        "print(confusion_matrix(Y_test1, predictions))\n",
        "print(classification_report(Y_test1, predictions))\n",
        "\n",
        "\n",
        "#Accuracy\n",
        "print(\"************************* Part 'F' Accuracy *************************\\n \")\n",
        "for i in range(1,10):\n",
        "  knn = KNeighborsClassifier(i)\n",
        "  knn.fit(X_train, Y_train)\n",
        "  predictions = knn.predict(X_test1)\n",
        "  print(\"Accuracy Test1 = \",accuracy_score(Y_test1, predictions))"
      ],
      "execution_count": 0,
      "outputs": [
        {
          "output_type": "stream",
          "text": [
            "0.9425891181988743\n",
            "[[1645   48]\n",
            " [ 105  867]]\n",
            "              precision    recall  f1-score   support\n",
            "\n",
            "         0.0       0.94      0.97      0.96      1693\n",
            "         1.0       0.95      0.89      0.92       972\n",
            "\n",
            "    accuracy                           0.94      2665\n",
            "   macro avg       0.94      0.93      0.94      2665\n",
            "weighted avg       0.94      0.94      0.94      2665\n",
            "\n",
            "************************* Part 'F' Accuracy *************************\n",
            " \n",
            "Accuracy Test1 =  0.9365853658536586\n",
            "Accuracy Test1 =  0.9230769230769231\n",
            "Accuracy Test1 =  0.9350844277673546\n",
            "Accuracy Test1 =  0.9275797373358349\n",
            "Accuracy Test1 =  0.9425891181988743\n",
            "Accuracy Test1 =  0.9324577861163227\n",
            "Accuracy Test1 =  0.9609756097560975\n",
            "Accuracy Test1 =  0.9549718574108818\n",
            "Accuracy Test1 =  0.9617260787992495\n"
          ],
          "name": "stdout"
        }
      ]
    },
    {
      "cell_type": "code",
      "metadata": {
        "id": "r7PwYQR-7VpV",
        "colab_type": "code",
        "outputId": "2837c8f8-eec0-4c0a-8794-6ee35a2bbe15",
        "colab": {
          "base_uri": "https://localhost:8080/",
          "height": 408
        }
      },
      "source": [
        "knn = KNeighborsClassifier()\n",
        "knn.fit(X_train, Y_train)\n",
        "predictions = knn.predict(X_test2)\n",
        "print(accuracy_score(Y_test2, predictions))\n",
        "print(confusion_matrix(Y_test2, predictions))\n",
        "print(classification_report(Y_test2, predictions))\n",
        "\n",
        "\n",
        "#Accuracy\n",
        "print(\"************************* Part 'F' Accuracy *************************\\n \")\n",
        "for i in range(1,10):\n",
        "  knn = KNeighborsClassifier(i)\n",
        "  knn.fit(X_train, Y_train)\n",
        "  predictions = knn.predict(X_test2)\n",
        "  print(\"Accuracy Test2 = \",accuracy_score(Y_test2, predictions))"
      ],
      "execution_count": 0,
      "outputs": [
        {
          "output_type": "stream",
          "text": [
            "0.9621616078753076\n",
            "[[7385  318]\n",
            " [  51 1998]]\n",
            "              precision    recall  f1-score   support\n",
            "\n",
            "         0.0       0.99      0.96      0.98      7703\n",
            "         1.0       0.86      0.98      0.92      2049\n",
            "\n",
            "    accuracy                           0.96      9752\n",
            "   macro avg       0.93      0.97      0.95      9752\n",
            "weighted avg       0.97      0.96      0.96      9752\n",
            "\n",
            "************************* Part 'F' Accuracy *************************\n",
            " \n",
            "Accuracy Test2 =  0.9502666119770303\n",
            "Accuracy Test2 =  0.9525225594749795\n",
            "Accuracy Test2 =  0.9579573420836751\n",
            "Accuracy Test2 =  0.9539581624282198\n",
            "Accuracy Test2 =  0.9621616078753076\n",
            "Accuracy Test2 =  0.9628794093519278\n",
            "Accuracy Test2 =  0.9649302707136997\n",
            "Accuracy Test2 =  0.9658531583264971\n",
            "Accuracy Test2 =  0.9656480721903199\n"
          ],
          "name": "stdout"
        }
      ]
    },
    {
      "cell_type": "markdown",
      "metadata": {
        "id": "ixPLg8mb_3rD",
        "colab_type": "text"
      },
      "source": [
        "## **Question # 3**"
      ]
    },
    {
      "cell_type": "code",
      "metadata": {
        "id": "41tuxROnh-Xi",
        "colab_type": "code",
        "colab": {}
      },
      "source": [
        "# dataset\n",
        "# dataset_test1\n",
        "# dataset_test2\n",
        "\n",
        "names= [\"Date\",\"Temperature\",\t\"Humidity\",\t\"Light\",\t\"CO2\",\t\"HumidityRatio\",\t\"Occupancy\"]\n",
        "dataset = pandas.read_csv(data_training_path, names=names, header=0)\n",
        "dataset.drop(dataset.columns[0], axis=1, inplace=True)\n",
        "# display(dataset)"
      ],
      "execution_count": 0,
      "outputs": []
    },
    {
      "cell_type": "code",
      "metadata": {
        "id": "hiroARm3CzjH",
        "colab_type": "code",
        "colab": {}
      },
      "source": [
        "names= [\"Date\",\"Temperature\",\t\"Humidity\",\t\"Light\",\t\"CO2\",\t\"HumidityRatio\",\t\"Occupancy\"]\n",
        "\n",
        "dataset_test1 = pandas.read_csv(data_test1_path, names=names, header=0)\n",
        "dataset_test2 = pandas.read_csv(data_test2_path, names=names, header=0)\n",
        "\n",
        "dataset_test1.drop(dataset_test1.columns[0], axis=1, inplace=True)\n",
        "dataset_test2.drop(dataset_test2.columns[0], axis=1, inplace=True)\n",
        "\n",
        "# display(dataset_test1)\n",
        "# display(dataset_test2)"
      ],
      "execution_count": 0,
      "outputs": []
    },
    {
      "cell_type": "code",
      "metadata": {
        "id": "queNPTmsCokx",
        "colab_type": "code",
        "outputId": "61ab59bc-4def-48d8-9a8c-dfea83219de3",
        "colab": {
          "base_uri": "https://localhost:8080/",
          "height": 119
        }
      },
      "source": [
        "array = dataset.values\n",
        "X_train = array[:,0:5]\n",
        "Y_train = array[:,5]\n",
        "# display(X_train)\n",
        "# display(Y_train)\n",
        "\n",
        "\n",
        "array_test1 = dataset_test1.values\n",
        "X_test1 = array_test1[:,0:5]\n",
        "Y_test1 = array_test1[:,5]\n",
        "\n",
        "# display(X_test1)\n",
        "# display(Y_test1)\n",
        "\n",
        "\n",
        "array_test2 = dataset_test2.values\n",
        "X_test2 = array_test2[:,0:5]\n",
        "Y_test2 = array_test2[:,5]\n",
        "\n",
        "\n",
        "# display(X_test2)\n",
        "# display(Y_test2)\n",
        "\n",
        "print(X_train[219],\"\\n\",X_test1[219])\n",
        "print(Y_train[219],\"\\n\",Y_test1[219])"
      ],
      "execution_count": 0,
      "outputs": [
        {
          "output_type": "stream",
          "text": [
            "[2.15000000e+01 2.58400000e+01 0.00000000e+00 4.90000000e+02\n",
            " 4.09552268e-03] \n",
            " [2.23900000e+01 2.47170833e+01 4.19000000e+02 7.72925000e+02\n",
            " 4.13646442e-03]\n",
            "0.0 \n",
            " 1.0\n"
          ],
          "name": "stdout"
        }
      ]
    },
    {
      "cell_type": "code",
      "metadata": {
        "id": "w4MWgE-cYNxJ",
        "colab_type": "code",
        "outputId": "8439d54e-cba9-4e57-a966-5f8bca79b551",
        "colab": {
          "base_uri": "https://localhost:8080/",
          "height": 34
        }
      },
      "source": [
        "np.sum(np.square(X_train[219] - X_test1[219]) / (X_train[219] + X_test1[219]))"
      ],
      "execution_count": 0,
      "outputs": [
        {
          "output_type": "execute_result",
          "data": {
            "text/plain": [
              "482.42486445101076"
            ]
          },
          "metadata": {
            "tags": []
          },
          "execution_count": 76
        }
      ]
    },
    {
      "cell_type": "code",
      "metadata": {
        "id": "xGeMDdAg_8CJ",
        "colab_type": "code",
        "outputId": "fed6af13-75a4-480d-a149-a2b80c4cb26c",
        "colab": {
          "base_uri": "https://localhost:8080/",
          "height": 105
        }
      },
      "source": [
        "import numpy as np\n",
        "from collections import Counter\n",
        "\n",
        "\n",
        "def Chi_Square(training_data , test_sample, training_labels):\n",
        "  # print(\"\\nHello Inside ChiSquare\", end=\"\")\n",
        "  distance = {}    # distance of test sample with each training sample\n",
        "  for train_sample, train_label, index in zip(training_data, training_labels, range(len(training_data))):\n",
        "    d = (np.sum(np.square(train_sample - test_sample) / (train_sample + test_sample)) , index )\n",
        "    distance[d] = train_label\n",
        "  \n",
        "  return distance  # returns list of chi square distance of single test sample\n",
        "\n",
        "\n",
        "#  X_train, X_test1, X_test2 (data),  Y_train, Y_test1, Y_test2 (labels)  \n",
        "\n",
        "def predict( k ,Chi_Sq_Distance_Test_Sample,  Actual_test_sample_label):\n",
        "  distances = list(Chi_Sq_Distance_Test_Sample.keys())\n",
        "  distance_sorted = sorted(distances)\n",
        "  \n",
        "  # print(\"\\nHello Inside Predict\")\n",
        "  \n",
        "  K_minimum_Distance = distance_sorted[:k]\n",
        "\n",
        "  # indexes = [distances.index(i) for i in K_minimum_Distance ]   # Actual Test Sample Location\n",
        "  # distance.index( np.min(distance) ) ,  np.min(distance)\n",
        "  \n",
        "  predicted_labels = [Chi_Sq_Distance_Test_Sample[i] for i in K_minimum_Distance] \n",
        "  # print(predicted_labels, end=\" \")\n",
        "  \n",
        "  if len(predicted_labels)>1:\n",
        "    predicted_label=Counter(predicted_labels)\n",
        "    if predicted_label[1.] > predicted_label[0.]:\n",
        "      predicted_label = 1.\n",
        "    elif predicted_label[1.] < predicted_label[0.]:\n",
        "      predicted_label = 0.\n",
        "    else:\n",
        "      predicted_label = predicted_labels[np.random.randint(len(predicted_labels))]\n",
        "\n",
        "  else:\n",
        "    predicted_label = predicted_labels[0]\n",
        "\n",
        "  correctly_classified = True if Actual_test_sample_label == predicted_label else False\n",
        "\n",
        "  return predicted_label, correctly_classified\n",
        "\n",
        "\n",
        "\n",
        "for k in range(1,10):\n",
        "  Accuracy=0\n",
        "  for test_sample,test_label in zip(X_test1,Y_test1):\n",
        "  \n",
        "    Distance = Chi_Square(X_train ,test_sample, Y_train)  #Dictionary with Training_Data Label\n",
        "    Predicted_Label_for_test_sample, Correctly_Classified = predict(k, Distance, test_label)\n",
        "    if Correctly_Classified == True:\n",
        "      Accuracy+=1 \n",
        "  print(\"Accuracy for K=\", k, \"is : \", Accuracy/X_test1.shape[0])"
      ],
      "execution_count": 0,
      "outputs": [
        {
          "output_type": "stream",
          "text": [
            "/usr/local/lib/python3.6/dist-packages/ipykernel_launcher.py:9: RuntimeWarning: invalid value encountered in true_divide\n",
            "  if __name__ == '__main__':\n"
          ],
          "name": "stderr"
        },
        {
          "output_type": "stream",
          "text": [
            "Accuracy for K= 1 is :  0.9212007504690432\n",
            "Accuracy for K= 2 is :  0.924202626641651\n"
          ],
          "name": "stdout"
        }
      ]
    },
    {
      "cell_type": "code",
      "metadata": {
        "id": "edJ9cqKqnvyq",
        "colab_type": "code",
        "colab": {}
      },
      "source": [
        ""
      ],
      "execution_count": 0,
      "outputs": []
    }
  ]
}