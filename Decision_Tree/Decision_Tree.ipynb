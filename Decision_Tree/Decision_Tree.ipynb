{
  "nbformat": 4,
  "nbformat_minor": 0,
  "metadata": {
    "kernelspec": {
      "display_name": "Python 3",
      "language": "python",
      "name": "python3"
    },
    "language_info": {
      "codemirror_mode": {
        "name": "ipython",
        "version": 3
      },
      "file_extension": ".py",
      "mimetype": "text/x-python",
      "name": "python",
      "nbconvert_exporter": "python",
      "pygments_lexer": "ipython3",
      "version": "3.7.3"
    },
    "colab": {
      "name": "Decision_Tree.ipynb",
      "provenance": []
    }
  },
  "cells": [
    {
      "cell_type": "code",
      "metadata": {
        "id": "MlyqQIPh4jA6",
        "colab_type": "code",
        "colab": {}
      },
      "source": [
        "import pandas as pd\n",
        "from statistics import mean \n",
        "from sklearn.model_selection import cross_val_score\n",
        "from sklearn import datasets\n",
        "from sklearn.tree import DecisionTreeClassifier \n",
        "from sklearn.model_selection import train_test_split \n",
        "from sklearn import metrics \n",
        "import sklearn\n",
        "import numpy as np"
      ],
      "execution_count": 0,
      "outputs": []
    },
    {
      "cell_type": "code",
      "metadata": {
        "id": "gWFCSS_v4jBE",
        "colab_type": "code",
        "colab": {}
      },
      "source": [
        "result = pd.DataFrame(index= [\"DT Hold Out using gini (with pruning)\",\n",
        "                             \"DT Hold Out using gini (without pruning)\",\n",
        "                             \"DT Hold Out using entropy (with pruning)\",\n",
        "                             \"DT Hold Out using entropy (without pruning)\", \n",
        "                             \"DT using 10*10 Fold CV using gini (with pruning)\",\n",
        "                             \"DT using 10*10 Fold CV using gini (without pruning)\",\n",
        "                             \"DT using 10*10 Fold CV using entropy (with pruning)\",\n",
        "                             \"DT using 10*10 Fold CV using entropy (without pruning)\"],\n",
        "                    \n",
        "                      columns=[\"Dataset Diabetes\", \"Dataset Digits\", \"Dataset Iris\", \n",
        "                               \"Dataset Wine\", \"Dataset Breast_Cancer\"])"
      ],
      "execution_count": 0,
      "outputs": []
    },
    {
      "cell_type": "code",
      "metadata": {
        "id": "bBwISdiH4jBN",
        "colab_type": "code",
        "colab": {},
        "outputId": "255bc186-a738-49fc-f065-4c9ad922bb12"
      },
      "source": [
        "diabetes = sklearn.datasets.load_diabetes()\n",
        "\n",
        "X = diabetes.data\n",
        "y = diabetes.target\n",
        "\n",
        "clf = DecisionTreeClassifier(criterion=\"gini\",ccp_alpha=0.015)\n",
        "acc=[]\n",
        "\n",
        "print('Dataset diabetes  With pruning GINI Hold-out approach')\n",
        "\n",
        "for i in range(1,101):\n",
        "    X_train, X_test, y_train, y_test = train_test_split(X, y, test_size=0.3) # 70% training and 30% test\n",
        "    clf=clf.fit(X_train,y_train)\n",
        "    y_pred = clf.predict(X_test)\n",
        "\n",
        "    acc.append(metrics.accuracy_score(y_test, y_pred))\n",
        "\n",
        "result.iloc[0][\"Dataset Diabetes\"] = (mean(acc))\n",
        "mean(acc)"
      ],
      "execution_count": 0,
      "outputs": [
        {
          "output_type": "stream",
          "text": [
            "Dataset diabetes  With pruning GINI Hold-out approach\n"
          ],
          "name": "stdout"
        },
        {
          "output_type": "execute_result",
          "data": {
            "text/plain": [
              "0.002932330827067669"
            ]
          },
          "metadata": {
            "tags": []
          },
          "execution_count": 3
        }
      ]
    },
    {
      "cell_type": "code",
      "metadata": {
        "id": "sFnh29l24jBU",
        "colab_type": "code",
        "colab": {},
        "outputId": "b1a908fa-45fe-4b96-c3af-10d22b42ccb1"
      },
      "source": [
        "dataset1 =  sklearn.datasets.load_diabetes()\n",
        "\n",
        "X = dataset1.data\n",
        "y = dataset1.target\n",
        "\n",
        "clf = DecisionTreeClassifier(criterion=\"gini\")\n",
        "acc=[]\n",
        "\n",
        "print('Dataset diabetes  Without pruning GINI Hold-out approach :')\n",
        "\n",
        "for i in range(1,101):\n",
        "    X_train, X_test, y_train, y_test = train_test_split(X, y, test_size=0.3) # 70% training and 30% test\n",
        "    clf=clf.fit(X_train,y_train)\n",
        "    y_pred = clf.predict(X_test)\n",
        "\n",
        "    acc.append(metrics.accuracy_score(y_test, y_pred))\n",
        "\n",
        "result.iloc[1][\"Dataset Diabetes\"] = (mean(acc))\n",
        "mean(acc)"
      ],
      "execution_count": 0,
      "outputs": [
        {
          "output_type": "stream",
          "text": [
            "Dataset diabetes  Without pruning GINI Hold-out approach :\n"
          ],
          "name": "stdout"
        },
        {
          "output_type": "execute_result",
          "data": {
            "text/plain": [
              "0.004736842105263157"
            ]
          },
          "metadata": {
            "tags": []
          },
          "execution_count": 4
        }
      ]
    },
    {
      "cell_type": "code",
      "metadata": {
        "id": "JEnQ1usN4jBb",
        "colab_type": "code",
        "colab": {},
        "outputId": "2f62ce91-1de0-4822-ed1f-d13c5b4b066e"
      },
      "source": [
        "dataset1 =  sklearn.datasets.load_diabetes()\n",
        "\n",
        "X = dataset1.data\n",
        "y = dataset1.target\n",
        "\n",
        "clf = DecisionTreeClassifier(criterion=\"entropy\",ccp_alpha=0.015)\n",
        "acc=[]\n",
        "\n",
        "print('Dataset diabetes  With pruning Entropy  Hold-out approach:')\n",
        "\n",
        "for i in range(1,101):\n",
        "    X_train, X_test, y_train, y_test = train_test_split(X, y, test_size=0.3) # 70% training and 30% test\n",
        "    clf=clf.fit(X_train,y_train)\n",
        "    y_pred = clf.predict(X_test)\n",
        "    \n",
        "    acc.append(metrics.accuracy_score(y_test, y_pred))\n",
        "\n",
        "result.iloc[2][\"Dataset Diabetes\"] = (mean(acc))\n",
        "mean(acc)\n"
      ],
      "execution_count": 0,
      "outputs": [
        {
          "output_type": "stream",
          "text": [
            "Dataset diabetes  With pruning Entropy  Hold-out approach:\n"
          ],
          "name": "stdout"
        },
        {
          "output_type": "execute_result",
          "data": {
            "text/plain": [
              "0.0065413533834586465"
            ]
          },
          "metadata": {
            "tags": []
          },
          "execution_count": 5
        }
      ]
    },
    {
      "cell_type": "code",
      "metadata": {
        "id": "b0DhJPha4jBh",
        "colab_type": "code",
        "colab": {},
        "outputId": "f2daca4c-0529-4df0-9955-6d5cb1458810"
      },
      "source": [
        "dataset1 =  sklearn.datasets.load_diabetes()\n",
        "\n",
        "X = dataset1.data\n",
        "y = dataset1.target\n",
        "\n",
        "clf = DecisionTreeClassifier(criterion=\"entropy\")\n",
        "acc=[]\n",
        "\n",
        "print('Dataset diabetes  Without using Entropy  Hold-out approach:')\n",
        "\n",
        "for i in range(1,101):\n",
        "    X_train, X_test, y_train, y_test = train_test_split(X, y, test_size=0.3) # 70% training and 30% test\n",
        "    clf=clf.fit(X_train,y_train)\n",
        "    y_pred = clf.predict(X_test)\n",
        "\n",
        "    acc.append(metrics.accuracy_score(y_test, y_pred))\n",
        "\n",
        "result.iloc[3][\"Dataset Diabetes\"] = (mean(acc))\n",
        "mean(acc)"
      ],
      "execution_count": 0,
      "outputs": [
        {
          "output_type": "stream",
          "text": [
            "Dataset diabetes  Without using Entropy  Hold-out approach:\n"
          ],
          "name": "stdout"
        },
        {
          "output_type": "execute_result",
          "data": {
            "text/plain": [
              "0.00556390977443609"
            ]
          },
          "metadata": {
            "tags": []
          },
          "execution_count": 6
        }
      ]
    },
    {
      "cell_type": "code",
      "metadata": {
        "id": "vbPv4-to4jBn",
        "colab_type": "code",
        "colab": {},
        "outputId": "d3cfd76e-a1d3-44fe-fd35-c5f38f4e41f9"
      },
      "source": [
        "dataset1 =  sklearn.datasets.load_diabetes()\n",
        "\n",
        "X = dataset1.data\n",
        "y = dataset1.target\n",
        "\n",
        "clf = DecisionTreeClassifier(criterion=\"entropy\")\n",
        "acc=[]\n",
        "\n",
        "print('Dataset diabetes  Without using Entropy  10*10 CV approach:')\n",
        "\n",
        "\n",
        "result.iloc[4:][\"Dataset Diabetes\"] = \"not possible\"\n",
        "\n",
        "print('n_splits are greater than the number of members in each class.')"
      ],
      "execution_count": 0,
      "outputs": [
        {
          "output_type": "stream",
          "text": [
            "Dataset diabetes  Without using Entropy  10*10 CV approach:\n",
            "n_splits are greater than the number of members in each class.\n"
          ],
          "name": "stdout"
        },
        {
          "output_type": "stream",
          "text": [
            "C:\\Users\\Murtaza\\Anaconda3\\lib\\site-packages\\ipykernel_launcher.py:12: SettingWithCopyWarning: \n",
            "A value is trying to be set on a copy of a slice from a DataFrame.\n",
            "Try using .loc[row_indexer,col_indexer] = value instead\n",
            "\n",
            "See the caveats in the documentation: http://pandas.pydata.org/pandas-docs/stable/indexing.html#indexing-view-versus-copy\n",
            "  if sys.path[0] == '':\n"
          ],
          "name": "stderr"
        }
      ]
    },
    {
      "cell_type": "code",
      "metadata": {
        "id": "HI5XRTNc4jBu",
        "colab_type": "code",
        "colab": {},
        "outputId": "df5677aa-9e4e-4d77-cbf6-ec239f470bcb"
      },
      "source": [
        "result"
      ],
      "execution_count": 0,
      "outputs": [
        {
          "output_type": "execute_result",
          "data": {
            "text/html": [
              "<div>\n",
              "<style scoped>\n",
              "    .dataframe tbody tr th:only-of-type {\n",
              "        vertical-align: middle;\n",
              "    }\n",
              "\n",
              "    .dataframe tbody tr th {\n",
              "        vertical-align: top;\n",
              "    }\n",
              "\n",
              "    .dataframe thead th {\n",
              "        text-align: right;\n",
              "    }\n",
              "</style>\n",
              "<table border=\"1\" class=\"dataframe\">\n",
              "  <thead>\n",
              "    <tr style=\"text-align: right;\">\n",
              "      <th></th>\n",
              "      <th>Dataset Diabetes</th>\n",
              "      <th>Dataset Digits</th>\n",
              "      <th>Dataset Iris</th>\n",
              "      <th>Dataset Wine</th>\n",
              "      <th>Dataset Breast_Cancer</th>\n",
              "    </tr>\n",
              "  </thead>\n",
              "  <tbody>\n",
              "    <tr>\n",
              "      <th>DT Hold Out using gini (with pruning)</th>\n",
              "      <td>0.00293233</td>\n",
              "      <td>NaN</td>\n",
              "      <td>NaN</td>\n",
              "      <td>NaN</td>\n",
              "      <td>NaN</td>\n",
              "    </tr>\n",
              "    <tr>\n",
              "      <th>DT Hold Out using gini (without pruning)</th>\n",
              "      <td>0.00473684</td>\n",
              "      <td>NaN</td>\n",
              "      <td>NaN</td>\n",
              "      <td>NaN</td>\n",
              "      <td>NaN</td>\n",
              "    </tr>\n",
              "    <tr>\n",
              "      <th>DT Hold Out using entropy (with pruning)</th>\n",
              "      <td>0.00654135</td>\n",
              "      <td>NaN</td>\n",
              "      <td>NaN</td>\n",
              "      <td>NaN</td>\n",
              "      <td>NaN</td>\n",
              "    </tr>\n",
              "    <tr>\n",
              "      <th>DT Hold Out using entropy (without pruning)</th>\n",
              "      <td>0.00556391</td>\n",
              "      <td>NaN</td>\n",
              "      <td>NaN</td>\n",
              "      <td>NaN</td>\n",
              "      <td>NaN</td>\n",
              "    </tr>\n",
              "    <tr>\n",
              "      <th>DT using 10*10 Fold CV using gini (with pruning)</th>\n",
              "      <td>not possible</td>\n",
              "      <td>NaN</td>\n",
              "      <td>NaN</td>\n",
              "      <td>NaN</td>\n",
              "      <td>NaN</td>\n",
              "    </tr>\n",
              "    <tr>\n",
              "      <th>DT using 10*10 Fold CV using gini (without pruning)</th>\n",
              "      <td>not possible</td>\n",
              "      <td>NaN</td>\n",
              "      <td>NaN</td>\n",
              "      <td>NaN</td>\n",
              "      <td>NaN</td>\n",
              "    </tr>\n",
              "    <tr>\n",
              "      <th>DT using 10*10 Fold CV using entropy (with pruning)</th>\n",
              "      <td>not possible</td>\n",
              "      <td>NaN</td>\n",
              "      <td>NaN</td>\n",
              "      <td>NaN</td>\n",
              "      <td>NaN</td>\n",
              "    </tr>\n",
              "    <tr>\n",
              "      <th>DT using 10*10 Fold CV using entropy (without pruning)</th>\n",
              "      <td>not possible</td>\n",
              "      <td>NaN</td>\n",
              "      <td>NaN</td>\n",
              "      <td>NaN</td>\n",
              "      <td>NaN</td>\n",
              "    </tr>\n",
              "  </tbody>\n",
              "</table>\n",
              "</div>"
            ],
            "text/plain": [
              "                                                   Dataset Diabetes  \\\n",
              "DT Hold Out using gini (with pruning)                    0.00293233   \n",
              "DT Hold Out using gini (without pruning)                 0.00473684   \n",
              "DT Hold Out using entropy (with pruning)                 0.00654135   \n",
              "DT Hold Out using entropy (without pruning)              0.00556391   \n",
              "DT using 10*10 Fold CV using gini (with pruning)       not possible   \n",
              "DT using 10*10 Fold CV using gini (without prun...     not possible   \n",
              "DT using 10*10 Fold CV using entropy (with prun...     not possible   \n",
              "DT using 10*10 Fold CV using entropy (without p...     not possible   \n",
              "\n",
              "                                                   Dataset Digits  \\\n",
              "DT Hold Out using gini (with pruning)                         NaN   \n",
              "DT Hold Out using gini (without pruning)                      NaN   \n",
              "DT Hold Out using entropy (with pruning)                      NaN   \n",
              "DT Hold Out using entropy (without pruning)                   NaN   \n",
              "DT using 10*10 Fold CV using gini (with pruning)              NaN   \n",
              "DT using 10*10 Fold CV using gini (without prun...            NaN   \n",
              "DT using 10*10 Fold CV using entropy (with prun...            NaN   \n",
              "DT using 10*10 Fold CV using entropy (without p...            NaN   \n",
              "\n",
              "                                                   Dataset Iris Dataset Wine  \\\n",
              "DT Hold Out using gini (with pruning)                       NaN          NaN   \n",
              "DT Hold Out using gini (without pruning)                    NaN          NaN   \n",
              "DT Hold Out using entropy (with pruning)                    NaN          NaN   \n",
              "DT Hold Out using entropy (without pruning)                 NaN          NaN   \n",
              "DT using 10*10 Fold CV using gini (with pruning)            NaN          NaN   \n",
              "DT using 10*10 Fold CV using gini (without prun...          NaN          NaN   \n",
              "DT using 10*10 Fold CV using entropy (with prun...          NaN          NaN   \n",
              "DT using 10*10 Fold CV using entropy (without p...          NaN          NaN   \n",
              "\n",
              "                                                   Dataset Breast_Cancer  \n",
              "DT Hold Out using gini (with pruning)                                NaN  \n",
              "DT Hold Out using gini (without pruning)                             NaN  \n",
              "DT Hold Out using entropy (with pruning)                             NaN  \n",
              "DT Hold Out using entropy (without pruning)                          NaN  \n",
              "DT using 10*10 Fold CV using gini (with pruning)                     NaN  \n",
              "DT using 10*10 Fold CV using gini (without prun...                   NaN  \n",
              "DT using 10*10 Fold CV using entropy (with prun...                   NaN  \n",
              "DT using 10*10 Fold CV using entropy (without p...                   NaN  "
            ]
          },
          "metadata": {
            "tags": []
          },
          "execution_count": 8
        }
      ]
    },
    {
      "cell_type": "code",
      "metadata": {
        "id": "1onc0vdN4jB0",
        "colab_type": "code",
        "colab": {},
        "outputId": "7d4de176-c90a-4a51-be2a-46e21435992d"
      },
      "source": [
        "dataset2 =  sklearn.datasets.load_digits()\n",
        "\n",
        "X = dataset2.data\n",
        "y = dataset2.target\n",
        "\n",
        "clf = DecisionTreeClassifier(criterion=\"gini\",ccp_alpha=0.015)\n",
        "acc=[]\n",
        "\n",
        "print('Dataset digits With pruning GINI Hold-out approach:')\n",
        "for i in range(1,101):\n",
        "    X_train, X_test, y_train, y_test = train_test_split(X, y, test_size=0.3) # 70% training and 30% test\n",
        "    clf=clf.fit(X_train,y_train)\n",
        "    y_pred = clf.predict(X_test)\n",
        "\n",
        "    acc.append(metrics.accuracy_score(y_test, y_pred))\n",
        "\n",
        "result.iloc[0][\"Dataset Digits\"] = mean(acc)\n",
        "mean(acc)\n"
      ],
      "execution_count": 0,
      "outputs": [
        {
          "output_type": "stream",
          "text": [
            "Dataset digits With pruning GINI Hold-out approach:\n"
          ],
          "name": "stdout"
        },
        {
          "output_type": "execute_result",
          "data": {
            "text/plain": [
              "0.7414814814814815"
            ]
          },
          "metadata": {
            "tags": []
          },
          "execution_count": 9
        }
      ]
    },
    {
      "cell_type": "code",
      "metadata": {
        "id": "__BI9lD54jB6",
        "colab_type": "code",
        "colab": {},
        "outputId": "9cc0c615-6670-43ed-eb35-d0ff05c28ed8"
      },
      "source": [
        "dataset2 =  sklearn.datasets.load_digits()\n",
        "\n",
        "X = dataset2.data\n",
        "y = dataset2.target\n",
        "\n",
        "clf = DecisionTreeClassifier(criterion=\"gini\")\n",
        "acc=[]\n",
        "\n",
        "print('Dataset digits  Without pruning GINI Hold-out approach:')\n",
        "\n",
        "for i in range(1,101):\n",
        "    X_train, X_test, y_train, y_test = train_test_split(X, y, test_size=0.3) # 70% training and 30% test\n",
        "    clf=clf.fit(X_train,y_train)\n",
        "    y_pred = clf.predict(X_test)\n",
        "\n",
        "    acc.append(metrics.accuracy_score(y_test, y_pred))\n",
        "\n",
        "result.iloc[1][\"Dataset Digits\"] = mean(acc)\n",
        "mean(acc)"
      ],
      "execution_count": 0,
      "outputs": [
        {
          "output_type": "stream",
          "text": [
            "Dataset digits  Without pruning GINI Hold-out approach:\n"
          ],
          "name": "stdout"
        },
        {
          "output_type": "execute_result",
          "data": {
            "text/plain": [
              "0.8458518518518519"
            ]
          },
          "metadata": {
            "tags": []
          },
          "execution_count": 10
        }
      ]
    },
    {
      "cell_type": "code",
      "metadata": {
        "id": "ToGsx7934jCA",
        "colab_type": "code",
        "colab": {},
        "outputId": "ac7eed1f-7628-4f23-f647-050a40ce897d"
      },
      "source": [
        "dataset2 =  sklearn.datasets.load_digits()\n",
        "\n",
        "X = dataset2.data\n",
        "y = dataset2.target\n",
        "\n",
        "clf = DecisionTreeClassifier(criterion=\"entropy\",ccp_alpha=0.015)\n",
        "acc=[]\n",
        "\n",
        "print('Dataset digits With pruning Entropy  Hold-out approach:')\n",
        "\n",
        "for i in range(1,101):\n",
        "    X_train, X_test, y_train, y_test = train_test_split(X, y, test_size=0.3) # 70% training and 30% test\n",
        "    clf=clf.fit(X_train,y_train)\n",
        "    y_pred = clf.predict(X_test)\n",
        "\n",
        "    acc.append(metrics.accuracy_score(y_test, y_pred))\n",
        "\n",
        "result.iloc[2][\"Dataset Digits\"] = mean(acc)\n",
        "mean(acc)"
      ],
      "execution_count": 0,
      "outputs": [
        {
          "output_type": "stream",
          "text": [
            "Dataset digits With pruning Entropy  Hold-out approach:\n"
          ],
          "name": "stdout"
        },
        {
          "output_type": "execute_result",
          "data": {
            "text/plain": [
              "0.8255370370370371"
            ]
          },
          "metadata": {
            "tags": []
          },
          "execution_count": 11
        }
      ]
    },
    {
      "cell_type": "code",
      "metadata": {
        "id": "hkKNv1sq4jCJ",
        "colab_type": "code",
        "colab": {},
        "outputId": "00975b91-5126-4eba-c030-d75b4f23bdba"
      },
      "source": [
        "dataset2 =  sklearn.datasets.load_digits()\n",
        "\n",
        "X = dataset2.data\n",
        "y = dataset2.target\n",
        "\n",
        "clf = DecisionTreeClassifier(criterion=\"entropy\")\n",
        "acc=[]\n",
        "\n",
        "print('Dataset digits Without using Entropy  Hold-out approach:')\n",
        "for i in range(1,101):\n",
        "    X_train, X_test, y_train, y_test = train_test_split(X, y, test_size=0.3) # 70% training and 30% test\n",
        "    clf=clf.fit(X_train,y_train)\n",
        "    y_pred = clf.predict(X_test)\n",
        "\n",
        "    acc.append(metrics.accuracy_score(y_test, y_pred))\n",
        "\n",
        "result.iloc[3][\"Dataset Digits\"] = mean(acc)\n",
        "mean(acc)"
      ],
      "execution_count": 0,
      "outputs": [
        {
          "output_type": "stream",
          "text": [
            "Dataset digits Without using Entropy  Hold-out approach:\n"
          ],
          "name": "stdout"
        },
        {
          "output_type": "execute_result",
          "data": {
            "text/plain": [
              "0.8565"
            ]
          },
          "metadata": {
            "tags": []
          },
          "execution_count": 12
        }
      ]
    },
    {
      "cell_type": "code",
      "metadata": {
        "id": "0ZqYnR4L4jCQ",
        "colab_type": "code",
        "colab": {},
        "outputId": "b5c02622-a8b0-4a32-a891-f92c2be7dd64"
      },
      "source": [
        "dataset2 =  sklearn.datasets.load_digits()\n",
        "\n",
        "X = dataset2.data\n",
        "y = dataset2.target\n",
        "\n",
        "clf = DecisionTreeClassifier(criterion=\"entropy\")\n",
        "acc=[]\n",
        "\n",
        "print('Dataset digits Without pruning Entropy  10*10 CV approach:')\n",
        "\n",
        "for i in range(1,11):\n",
        "    accuracies = cross_val_score(clf, X, y, cv=10)\n",
        "    acc.append(accuracies)\n",
        "\n",
        "result.iloc[4][\"Dataset Digits\"] = np.mean(acc)\n",
        "np.mean(acc)"
      ],
      "execution_count": 0,
      "outputs": [
        {
          "output_type": "stream",
          "text": [
            "Dataset digits Without pruning Entropy  10*10 CV approach:\n"
          ],
          "name": "stdout"
        },
        {
          "output_type": "execute_result",
          "data": {
            "text/plain": [
              "0.8184267535692116"
            ]
          },
          "metadata": {
            "tags": []
          },
          "execution_count": 13
        }
      ]
    },
    {
      "cell_type": "code",
      "metadata": {
        "id": "lQL6j3Mx4jCX",
        "colab_type": "code",
        "colab": {},
        "outputId": "499c8a90-160e-4d96-e2bb-fe480a8ac624"
      },
      "source": [
        "dataset2 =  sklearn.datasets.load_digits()\n",
        "\n",
        "X = dataset2.data\n",
        "y = dataset2.target\n",
        "\n",
        "clf = DecisionTreeClassifier(criterion=\"entropy\",ccp_alpha=0.015)\n",
        "acc=[]\n",
        "\n",
        "print('Dataset digits With pruning Entropy  10*10 CV approach:')\n",
        "\n",
        "for i in range(1,11):\n",
        "    accuracies = cross_val_score(clf, X, y, cv=10)\n",
        "    acc.append(accuracies)\n",
        "\n",
        "result.iloc[5][\"Dataset Digits\"] = np.mean(acc)\n",
        "np.mean(acc)"
      ],
      "execution_count": 0,
      "outputs": [
        {
          "output_type": "stream",
          "text": [
            "Dataset digits With pruning Entropy  10*10 CV approach:\n"
          ],
          "name": "stdout"
        },
        {
          "output_type": "execute_result",
          "data": {
            "text/plain": [
              "0.773705772811918"
            ]
          },
          "metadata": {
            "tags": []
          },
          "execution_count": 14
        }
      ]
    },
    {
      "cell_type": "code",
      "metadata": {
        "id": "HoRRm1I64jCc",
        "colab_type": "code",
        "colab": {},
        "outputId": "76b13b73-cb51-4ce5-ccdc-71c38fbf8741"
      },
      "source": [
        "dataset2 =  sklearn.datasets.load_digits()\n",
        "\n",
        "X = dataset2.data\n",
        "y = dataset2.target\n",
        "\n",
        "clf = DecisionTreeClassifier(criterion=\"gini\",ccp_alpha=0.015)\n",
        "acc=[]\n",
        "\n",
        "print('Dataset digits With pruning GINI  10*10 CV approach:')\n",
        "\n",
        "for i in range(1,11):\n",
        "    accuracies = cross_val_score(clf, X, y, cv=10)\n",
        "    acc.append(accuracies)\n",
        "\n",
        "result.iloc[6][\"Dataset Digits\"] = np.mean(acc)\n",
        "np.mean(acc)"
      ],
      "execution_count": 0,
      "outputs": [
        {
          "output_type": "stream",
          "text": [
            "Dataset digits With pruning GINI  10*10 CV approach:\n"
          ],
          "name": "stdout"
        },
        {
          "output_type": "execute_result",
          "data": {
            "text/plain": [
              "0.728969584109249"
            ]
          },
          "metadata": {
            "tags": []
          },
          "execution_count": 15
        }
      ]
    },
    {
      "cell_type": "code",
      "metadata": {
        "id": "Yd_17i1N4jCi",
        "colab_type": "code",
        "colab": {},
        "outputId": "842e96de-4770-4136-a822-58c90f42f15d"
      },
      "source": [
        "dataset2 =  sklearn.datasets.load_digits()\n",
        "\n",
        "X = dataset2.data\n",
        "y = dataset2.target\n",
        "\n",
        "clf = DecisionTreeClassifier(criterion=\"gini\")\n",
        "acc=[]\n",
        "\n",
        "print('Dataset digits Without pruning GINI  10*10 CV approach:')\n",
        "\n",
        "for i in range(1,11):\n",
        "    accuracies = cross_val_score(clf, X, y, cv=10)\n",
        "    acc.append(accuracies)\n",
        "\n",
        "result.iloc[7][\"Dataset Digits\"] = np.mean(acc)\n",
        "np.mean(acc)"
      ],
      "execution_count": 0,
      "outputs": [
        {
          "output_type": "stream",
          "text": [
            "Dataset digits Without pruning GINI  10*10 CV approach:\n"
          ],
          "name": "stdout"
        },
        {
          "output_type": "execute_result",
          "data": {
            "text/plain": [
              "0.8270841092489138"
            ]
          },
          "metadata": {
            "tags": []
          },
          "execution_count": 16
        }
      ]
    },
    {
      "cell_type": "code",
      "metadata": {
        "scrolled": true,
        "id": "1TCrYHkh4jCp",
        "colab_type": "code",
        "colab": {},
        "outputId": "856797fd-4c98-477c-f85f-8edf32c03734"
      },
      "source": [
        "result"
      ],
      "execution_count": 0,
      "outputs": [
        {
          "output_type": "execute_result",
          "data": {
            "text/html": [
              "<div>\n",
              "<style scoped>\n",
              "    .dataframe tbody tr th:only-of-type {\n",
              "        vertical-align: middle;\n",
              "    }\n",
              "\n",
              "    .dataframe tbody tr th {\n",
              "        vertical-align: top;\n",
              "    }\n",
              "\n",
              "    .dataframe thead th {\n",
              "        text-align: right;\n",
              "    }\n",
              "</style>\n",
              "<table border=\"1\" class=\"dataframe\">\n",
              "  <thead>\n",
              "    <tr style=\"text-align: right;\">\n",
              "      <th></th>\n",
              "      <th>Dataset Diabetes</th>\n",
              "      <th>Dataset Digits</th>\n",
              "      <th>Dataset Iris</th>\n",
              "      <th>Dataset Wine</th>\n",
              "      <th>Dataset Breast_Cancer</th>\n",
              "    </tr>\n",
              "  </thead>\n",
              "  <tbody>\n",
              "    <tr>\n",
              "      <th>DT Hold Out using gini (with pruning)</th>\n",
              "      <td>0.00293233</td>\n",
              "      <td>0.741481</td>\n",
              "      <td>NaN</td>\n",
              "      <td>NaN</td>\n",
              "      <td>NaN</td>\n",
              "    </tr>\n",
              "    <tr>\n",
              "      <th>DT Hold Out using gini (without pruning)</th>\n",
              "      <td>0.00473684</td>\n",
              "      <td>0.845852</td>\n",
              "      <td>NaN</td>\n",
              "      <td>NaN</td>\n",
              "      <td>NaN</td>\n",
              "    </tr>\n",
              "    <tr>\n",
              "      <th>DT Hold Out using entropy (with pruning)</th>\n",
              "      <td>0.00654135</td>\n",
              "      <td>0.825537</td>\n",
              "      <td>NaN</td>\n",
              "      <td>NaN</td>\n",
              "      <td>NaN</td>\n",
              "    </tr>\n",
              "    <tr>\n",
              "      <th>DT Hold Out using entropy (without pruning)</th>\n",
              "      <td>0.00556391</td>\n",
              "      <td>0.8565</td>\n",
              "      <td>NaN</td>\n",
              "      <td>NaN</td>\n",
              "      <td>NaN</td>\n",
              "    </tr>\n",
              "    <tr>\n",
              "      <th>DT using 10*10 Fold CV using gini (with pruning)</th>\n",
              "      <td>not possible</td>\n",
              "      <td>0.818427</td>\n",
              "      <td>NaN</td>\n",
              "      <td>NaN</td>\n",
              "      <td>NaN</td>\n",
              "    </tr>\n",
              "    <tr>\n",
              "      <th>DT using 10*10 Fold CV using gini (without pruning)</th>\n",
              "      <td>not possible</td>\n",
              "      <td>0.773706</td>\n",
              "      <td>NaN</td>\n",
              "      <td>NaN</td>\n",
              "      <td>NaN</td>\n",
              "    </tr>\n",
              "    <tr>\n",
              "      <th>DT using 10*10 Fold CV using entropy (with pruning)</th>\n",
              "      <td>not possible</td>\n",
              "      <td>0.72897</td>\n",
              "      <td>NaN</td>\n",
              "      <td>NaN</td>\n",
              "      <td>NaN</td>\n",
              "    </tr>\n",
              "    <tr>\n",
              "      <th>DT using 10*10 Fold CV using entropy (without pruning)</th>\n",
              "      <td>not possible</td>\n",
              "      <td>0.827084</td>\n",
              "      <td>NaN</td>\n",
              "      <td>NaN</td>\n",
              "      <td>NaN</td>\n",
              "    </tr>\n",
              "  </tbody>\n",
              "</table>\n",
              "</div>"
            ],
            "text/plain": [
              "                                                   Dataset Diabetes  \\\n",
              "DT Hold Out using gini (with pruning)                    0.00293233   \n",
              "DT Hold Out using gini (without pruning)                 0.00473684   \n",
              "DT Hold Out using entropy (with pruning)                 0.00654135   \n",
              "DT Hold Out using entropy (without pruning)              0.00556391   \n",
              "DT using 10*10 Fold CV using gini (with pruning)       not possible   \n",
              "DT using 10*10 Fold CV using gini (without prun...     not possible   \n",
              "DT using 10*10 Fold CV using entropy (with prun...     not possible   \n",
              "DT using 10*10 Fold CV using entropy (without p...     not possible   \n",
              "\n",
              "                                                   Dataset Digits  \\\n",
              "DT Hold Out using gini (with pruning)                    0.741481   \n",
              "DT Hold Out using gini (without pruning)                 0.845852   \n",
              "DT Hold Out using entropy (with pruning)                 0.825537   \n",
              "DT Hold Out using entropy (without pruning)                0.8565   \n",
              "DT using 10*10 Fold CV using gini (with pruning)         0.818427   \n",
              "DT using 10*10 Fold CV using gini (without prun...       0.773706   \n",
              "DT using 10*10 Fold CV using entropy (with prun...        0.72897   \n",
              "DT using 10*10 Fold CV using entropy (without p...       0.827084   \n",
              "\n",
              "                                                   Dataset Iris Dataset Wine  \\\n",
              "DT Hold Out using gini (with pruning)                       NaN          NaN   \n",
              "DT Hold Out using gini (without pruning)                    NaN          NaN   \n",
              "DT Hold Out using entropy (with pruning)                    NaN          NaN   \n",
              "DT Hold Out using entropy (without pruning)                 NaN          NaN   \n",
              "DT using 10*10 Fold CV using gini (with pruning)            NaN          NaN   \n",
              "DT using 10*10 Fold CV using gini (without prun...          NaN          NaN   \n",
              "DT using 10*10 Fold CV using entropy (with prun...          NaN          NaN   \n",
              "DT using 10*10 Fold CV using entropy (without p...          NaN          NaN   \n",
              "\n",
              "                                                   Dataset Breast_Cancer  \n",
              "DT Hold Out using gini (with pruning)                                NaN  \n",
              "DT Hold Out using gini (without pruning)                             NaN  \n",
              "DT Hold Out using entropy (with pruning)                             NaN  \n",
              "DT Hold Out using entropy (without pruning)                          NaN  \n",
              "DT using 10*10 Fold CV using gini (with pruning)                     NaN  \n",
              "DT using 10*10 Fold CV using gini (without prun...                   NaN  \n",
              "DT using 10*10 Fold CV using entropy (with prun...                   NaN  \n",
              "DT using 10*10 Fold CV using entropy (without p...                   NaN  "
            ]
          },
          "metadata": {
            "tags": []
          },
          "execution_count": 17
        }
      ]
    },
    {
      "cell_type": "code",
      "metadata": {
        "id": "zjvWq6_-4jCv",
        "colab_type": "code",
        "colab": {},
        "outputId": "86886460-44e8-484a-84d1-2cfabdc4dc1b"
      },
      "source": [
        "dataset3 = sklearn.datasets.load_iris()\n",
        "\n",
        "X = dataset3.data\n",
        "y = dataset3.target\n",
        "\n",
        "clf = DecisionTreeClassifier(criterion=\"gini\",ccp_alpha=0.015)\n",
        "acc=[]\n",
        "\n",
        "print('Dataset Iris With pruning GINI Hold-out approach:')\n",
        "\n",
        "for i in range(1,101):\n",
        "    X_train, X_test, y_train, y_test = train_test_split(X, y, test_size=0.3) # 70% training and 30% test\n",
        "    clf=clf.fit(X_train,y_train)\n",
        "    y_pred = clf.predict(X_test)\n",
        "\n",
        "    acc.append(metrics.accuracy_score(y_test, y_pred))\n",
        "\n",
        "result.iloc[0][\"Dataset Iris\"] = mean(acc)\n",
        "mean(acc)\n"
      ],
      "execution_count": 0,
      "outputs": [
        {
          "output_type": "stream",
          "text": [
            "Dataset Iris With pruning GINI Hold-out approach:\n"
          ],
          "name": "stdout"
        },
        {
          "output_type": "execute_result",
          "data": {
            "text/plain": [
              "0.9464444444444444"
            ]
          },
          "metadata": {
            "tags": []
          },
          "execution_count": 18
        }
      ]
    },
    {
      "cell_type": "code",
      "metadata": {
        "id": "vg5iKYxW4jC2",
        "colab_type": "code",
        "colab": {},
        "outputId": "851259eb-fdc3-4261-c0a9-e5db4e880535"
      },
      "source": [
        "dataset3 = sklearn.datasets.load_iris()\n",
        "\n",
        "X = dataset3.data\n",
        "y = dataset3.target\n",
        "\n",
        "clf = DecisionTreeClassifier(criterion=\"gini\",ccp_alpha=0.015)\n",
        "acc=[]\n",
        "\n",
        "print('Dataset Iris Without pruning GINI Hold-out approach:')\n",
        "\n",
        "for i in range(1,101):\n",
        "    X_train, X_test, y_train, y_test = train_test_split(X, y, test_size=0.3) # 70% training and 30% test\n",
        "    clf=clf.fit(X_train,y_train)\n",
        "    y_pred = clf.predict(X_test)\n",
        "\n",
        "    acc.append(metrics.accuracy_score(y_test, y_pred))\n",
        "\n",
        "result.iloc[1][\"Dataset Iris\"] = mean(acc)\n",
        "mean(acc)"
      ],
      "execution_count": 0,
      "outputs": [
        {
          "output_type": "stream",
          "text": [
            "Dataset Iris Without pruning GINI Hold-out approach:\n"
          ],
          "name": "stdout"
        },
        {
          "output_type": "execute_result",
          "data": {
            "text/plain": [
              "0.9440000000000001"
            ]
          },
          "metadata": {
            "tags": []
          },
          "execution_count": 19
        }
      ]
    },
    {
      "cell_type": "code",
      "metadata": {
        "id": "J85xXrt24jC7",
        "colab_type": "code",
        "colab": {},
        "outputId": "d70494a9-efc5-4078-e01b-61002d90f743"
      },
      "source": [
        "dataset3 = sklearn.datasets.load_iris()\n",
        "\n",
        "X = dataset3.data\n",
        "y = dataset3.target\n",
        "\n",
        "clf = DecisionTreeClassifier(criterion=\"entropy\",ccp_alpha=0.015)\n",
        "acc=[]\n",
        "\n",
        "print('Dataset Iris With pruning Entropy  Hold-out approach:')\n",
        "for i in range(1,101):\n",
        "    X_train, X_test, y_train, y_test = train_test_split(X, y, test_size=0.3) # 70% training and 30% test\n",
        "    clf=clf.fit(X_train,y_train)\n",
        "    y_pred = clf.predict(X_test)\n",
        "\n",
        "    acc.append(metrics.accuracy_score(y_test, y_pred))\n",
        "\n",
        "result.iloc[2][\"Dataset Iris\"] = mean(acc)\n",
        "mean(acc)"
      ],
      "execution_count": 0,
      "outputs": [
        {
          "output_type": "stream",
          "text": [
            "Dataset Iris With pruning Entropy  Hold-out approach:\n"
          ],
          "name": "stdout"
        },
        {
          "output_type": "execute_result",
          "data": {
            "text/plain": [
              "0.9428888888888889"
            ]
          },
          "metadata": {
            "tags": []
          },
          "execution_count": 20
        }
      ]
    },
    {
      "cell_type": "code",
      "metadata": {
        "id": "MeuwN8Ow4jDA",
        "colab_type": "code",
        "colab": {},
        "outputId": "459f6037-15f0-4dc9-dac6-4cb766af2876"
      },
      "source": [
        "dataset3 = sklearn.datasets.load_iris()\n",
        "\n",
        "X = dataset3.data\n",
        "y = dataset3.target\n",
        "\n",
        "clf = DecisionTreeClassifier(criterion=\"entropy\",ccp_alpha=0.015)\n",
        "acc=[]\n",
        "\n",
        "print('Dataset Iris Without using Entropy GINI Hold-out approach:')\n",
        "\n",
        "for i in range(1,101):\n",
        "    X_train, X_test, y_train, y_test = train_test_split(X, y, test_size=0.3) # 70% training and 30% test\n",
        "    clf=clf.fit(X_train,y_train)\n",
        "    y_pred = clf.predict(X_test)\n",
        "\n",
        "    acc.append(metrics.accuracy_score(y_test, y_pred))\n",
        "\n",
        "result.iloc[3][\"Dataset Iris\"] = mean(acc)\n",
        "mean(acc)"
      ],
      "execution_count": 0,
      "outputs": [
        {
          "output_type": "stream",
          "text": [
            "Dataset Iris Without using Entropy GINI Hold-out approach:\n"
          ],
          "name": "stdout"
        },
        {
          "output_type": "execute_result",
          "data": {
            "text/plain": [
              "0.9406666666666667"
            ]
          },
          "metadata": {
            "tags": []
          },
          "execution_count": 21
        }
      ]
    },
    {
      "cell_type": "code",
      "metadata": {
        "id": "nvvjdF6m4jDJ",
        "colab_type": "code",
        "colab": {},
        "outputId": "9592a808-9bb9-478b-8e1b-b821d9803376"
      },
      "source": [
        "dataset3 = sklearn.datasets.load_iris()\n",
        "\n",
        "X = dataset3.data\n",
        "y = dataset3.target\n",
        "\n",
        "clf = DecisionTreeClassifier(criterion=\"entropy\")\n",
        "acc=[]\n",
        "\n",
        "print('Dataset Iris Without pruning Entropy  10*10 CV approach:')\n",
        "\n",
        "for i in range(1,11):\n",
        "    accuracies = cross_val_score(clf, X, y, cv=10)\n",
        "    acc.append(accuracies)\n",
        "\n",
        "result.iloc[4][\"Dataset Iris\"] = np.mean(acc)\n",
        "np.mean(acc)"
      ],
      "execution_count": 0,
      "outputs": [
        {
          "output_type": "stream",
          "text": [
            "Dataset Iris Without pruning Entropy  10*10 CV approach:\n"
          ],
          "name": "stdout"
        },
        {
          "output_type": "execute_result",
          "data": {
            "text/plain": [
              "0.9540000000000002"
            ]
          },
          "metadata": {
            "tags": []
          },
          "execution_count": 22
        }
      ]
    },
    {
      "cell_type": "code",
      "metadata": {
        "id": "XUlydvS14jDO",
        "colab_type": "code",
        "colab": {},
        "outputId": "b4fb3fdb-f94d-44d1-b7a1-be2f386b7184"
      },
      "source": [
        "dataset3 = sklearn.datasets.load_iris()\n",
        "\n",
        "X = dataset3.data\n",
        "y = dataset3.target\n",
        "\n",
        "clf = DecisionTreeClassifier(criterion=\"entropy\",ccp_alpha=0.015)\n",
        "acc=[]\n",
        "\n",
        "print('Dataset Iris With pruning Entropy  10*10 CV approach:')\n",
        "\n",
        "for i in range(1,11):\n",
        "    accuracies = cross_val_score(clf, X, y, cv=10)\n",
        "    acc.append(accuracies)\n",
        "\n",
        "result.iloc[5][\"Dataset Iris\"] = np.mean(acc)\n",
        "np.mean(acc)"
      ],
      "execution_count": 0,
      "outputs": [
        {
          "output_type": "stream",
          "text": [
            "Dataset Iris With pruning Entropy  10*10 CV approach:\n"
          ],
          "name": "stdout"
        },
        {
          "output_type": "execute_result",
          "data": {
            "text/plain": [
              "0.9533333333333335"
            ]
          },
          "metadata": {
            "tags": []
          },
          "execution_count": 23
        }
      ]
    },
    {
      "cell_type": "code",
      "metadata": {
        "id": "gV4Go3sZ4jDT",
        "colab_type": "code",
        "colab": {},
        "outputId": "2fcdf5e8-7adf-47cf-b977-d1f3acf9c12b"
      },
      "source": [
        "dataset3 = sklearn.datasets.load_iris()\n",
        "\n",
        "X = dataset3.data\n",
        "y = dataset3.target\n",
        "\n",
        "clf = DecisionTreeClassifier(criterion=\"gini\",ccp_alpha=0.015)\n",
        "acc=[]\n",
        "\n",
        "print('Dataset Iris With pruning GINI  10*10 CV approach:')\n",
        "\n",
        "for i in range(1,11):\n",
        "    accuracies = cross_val_score(clf, X, y, cv=10)\n",
        "    acc.append(accuracies)\n",
        "\n",
        "result.iloc[6][\"Dataset Iris\"] = np.mean(acc)\n",
        "np.mean(acc)"
      ],
      "execution_count": 0,
      "outputs": [
        {
          "output_type": "stream",
          "text": [
            "Dataset Iris With pruning GINI  10*10 CV approach:\n"
          ],
          "name": "stdout"
        },
        {
          "output_type": "execute_result",
          "data": {
            "text/plain": [
              "0.9666666666666667"
            ]
          },
          "metadata": {
            "tags": []
          },
          "execution_count": 24
        }
      ]
    },
    {
      "cell_type": "code",
      "metadata": {
        "id": "CM2SwJ-v4jDY",
        "colab_type": "code",
        "colab": {},
        "outputId": "d941f24f-ef5b-489b-a94b-db9ae8835d44"
      },
      "source": [
        "dataset3 = sklearn.datasets.load_iris()\n",
        "\n",
        "X = dataset3.data\n",
        "y = dataset3.target\n",
        "\n",
        "clf = DecisionTreeClassifier(criterion=\"gini\")\n",
        "acc=[]\n",
        "\n",
        "print('Dataset Iris Without pruning GINI  10*10 CV approach:')\n",
        "\n",
        "for i in range(1,11):\n",
        "    accuracies = cross_val_score(clf, X, y, cv=10)\n",
        "    acc.append(accuracies)\n",
        "\n",
        "result.iloc[7][\"Dataset Iris\"] = np.mean(acc)\n",
        "np.mean(acc)"
      ],
      "execution_count": 0,
      "outputs": [
        {
          "output_type": "stream",
          "text": [
            "Dataset Iris Without pruning GINI  10*10 CV approach:\n"
          ],
          "name": "stdout"
        },
        {
          "output_type": "execute_result",
          "data": {
            "text/plain": [
              "0.9560000000000002"
            ]
          },
          "metadata": {
            "tags": []
          },
          "execution_count": 25
        }
      ]
    },
    {
      "cell_type": "code",
      "metadata": {
        "id": "g_qkh0_54jDg",
        "colab_type": "code",
        "colab": {},
        "outputId": "5f1b4a3a-82f6-4e6e-e0cc-6ebbe2933d3e"
      },
      "source": [
        "result\n"
      ],
      "execution_count": 0,
      "outputs": [
        {
          "output_type": "execute_result",
          "data": {
            "text/html": [
              "<div>\n",
              "<style scoped>\n",
              "    .dataframe tbody tr th:only-of-type {\n",
              "        vertical-align: middle;\n",
              "    }\n",
              "\n",
              "    .dataframe tbody tr th {\n",
              "        vertical-align: top;\n",
              "    }\n",
              "\n",
              "    .dataframe thead th {\n",
              "        text-align: right;\n",
              "    }\n",
              "</style>\n",
              "<table border=\"1\" class=\"dataframe\">\n",
              "  <thead>\n",
              "    <tr style=\"text-align: right;\">\n",
              "      <th></th>\n",
              "      <th>Dataset Diabetes</th>\n",
              "      <th>Dataset Digits</th>\n",
              "      <th>Dataset Iris</th>\n",
              "      <th>Dataset Wine</th>\n",
              "      <th>Dataset Breast_Cancer</th>\n",
              "    </tr>\n",
              "  </thead>\n",
              "  <tbody>\n",
              "    <tr>\n",
              "      <th>DT Hold Out using gini (with pruning)</th>\n",
              "      <td>0.00293233</td>\n",
              "      <td>0.741481</td>\n",
              "      <td>0.946444</td>\n",
              "      <td>NaN</td>\n",
              "      <td>NaN</td>\n",
              "    </tr>\n",
              "    <tr>\n",
              "      <th>DT Hold Out using gini (without pruning)</th>\n",
              "      <td>0.00473684</td>\n",
              "      <td>0.845852</td>\n",
              "      <td>0.944</td>\n",
              "      <td>NaN</td>\n",
              "      <td>NaN</td>\n",
              "    </tr>\n",
              "    <tr>\n",
              "      <th>DT Hold Out using entropy (with pruning)</th>\n",
              "      <td>0.00654135</td>\n",
              "      <td>0.825537</td>\n",
              "      <td>0.942889</td>\n",
              "      <td>NaN</td>\n",
              "      <td>NaN</td>\n",
              "    </tr>\n",
              "    <tr>\n",
              "      <th>DT Hold Out using entropy (without pruning)</th>\n",
              "      <td>0.00556391</td>\n",
              "      <td>0.8565</td>\n",
              "      <td>0.940667</td>\n",
              "      <td>NaN</td>\n",
              "      <td>NaN</td>\n",
              "    </tr>\n",
              "    <tr>\n",
              "      <th>DT using 10*10 Fold CV using gini (with pruning)</th>\n",
              "      <td>not possible</td>\n",
              "      <td>0.818427</td>\n",
              "      <td>0.954</td>\n",
              "      <td>NaN</td>\n",
              "      <td>NaN</td>\n",
              "    </tr>\n",
              "    <tr>\n",
              "      <th>DT using 10*10 Fold CV using gini (without pruning)</th>\n",
              "      <td>not possible</td>\n",
              "      <td>0.773706</td>\n",
              "      <td>0.953333</td>\n",
              "      <td>NaN</td>\n",
              "      <td>NaN</td>\n",
              "    </tr>\n",
              "    <tr>\n",
              "      <th>DT using 10*10 Fold CV using entropy (with pruning)</th>\n",
              "      <td>not possible</td>\n",
              "      <td>0.72897</td>\n",
              "      <td>0.966667</td>\n",
              "      <td>NaN</td>\n",
              "      <td>NaN</td>\n",
              "    </tr>\n",
              "    <tr>\n",
              "      <th>DT using 10*10 Fold CV using entropy (without pruning)</th>\n",
              "      <td>not possible</td>\n",
              "      <td>0.827084</td>\n",
              "      <td>0.956</td>\n",
              "      <td>NaN</td>\n",
              "      <td>NaN</td>\n",
              "    </tr>\n",
              "  </tbody>\n",
              "</table>\n",
              "</div>"
            ],
            "text/plain": [
              "                                                   Dataset Diabetes  \\\n",
              "DT Hold Out using gini (with pruning)                    0.00293233   \n",
              "DT Hold Out using gini (without pruning)                 0.00473684   \n",
              "DT Hold Out using entropy (with pruning)                 0.00654135   \n",
              "DT Hold Out using entropy (without pruning)              0.00556391   \n",
              "DT using 10*10 Fold CV using gini (with pruning)       not possible   \n",
              "DT using 10*10 Fold CV using gini (without prun...     not possible   \n",
              "DT using 10*10 Fold CV using entropy (with prun...     not possible   \n",
              "DT using 10*10 Fold CV using entropy (without p...     not possible   \n",
              "\n",
              "                                                   Dataset Digits  \\\n",
              "DT Hold Out using gini (with pruning)                    0.741481   \n",
              "DT Hold Out using gini (without pruning)                 0.845852   \n",
              "DT Hold Out using entropy (with pruning)                 0.825537   \n",
              "DT Hold Out using entropy (without pruning)                0.8565   \n",
              "DT using 10*10 Fold CV using gini (with pruning)         0.818427   \n",
              "DT using 10*10 Fold CV using gini (without prun...       0.773706   \n",
              "DT using 10*10 Fold CV using entropy (with prun...        0.72897   \n",
              "DT using 10*10 Fold CV using entropy (without p...       0.827084   \n",
              "\n",
              "                                                   Dataset Iris Dataset Wine  \\\n",
              "DT Hold Out using gini (with pruning)                  0.946444          NaN   \n",
              "DT Hold Out using gini (without pruning)                  0.944          NaN   \n",
              "DT Hold Out using entropy (with pruning)               0.942889          NaN   \n",
              "DT Hold Out using entropy (without pruning)            0.940667          NaN   \n",
              "DT using 10*10 Fold CV using gini (with pruning)          0.954          NaN   \n",
              "DT using 10*10 Fold CV using gini (without prun...     0.953333          NaN   \n",
              "DT using 10*10 Fold CV using entropy (with prun...     0.966667          NaN   \n",
              "DT using 10*10 Fold CV using entropy (without p...        0.956          NaN   \n",
              "\n",
              "                                                   Dataset Breast_Cancer  \n",
              "DT Hold Out using gini (with pruning)                                NaN  \n",
              "DT Hold Out using gini (without pruning)                             NaN  \n",
              "DT Hold Out using entropy (with pruning)                             NaN  \n",
              "DT Hold Out using entropy (without pruning)                          NaN  \n",
              "DT using 10*10 Fold CV using gini (with pruning)                     NaN  \n",
              "DT using 10*10 Fold CV using gini (without prun...                   NaN  \n",
              "DT using 10*10 Fold CV using entropy (with prun...                   NaN  \n",
              "DT using 10*10 Fold CV using entropy (without p...                   NaN  "
            ]
          },
          "metadata": {
            "tags": []
          },
          "execution_count": 26
        }
      ]
    },
    {
      "cell_type": "code",
      "metadata": {
        "id": "VnFT5FOM4jDn",
        "colab_type": "code",
        "colab": {},
        "outputId": "de4936f1-ad34-4477-a285-2d5027ead521"
      },
      "source": [
        "dataset4 = sklearn.datasets.load_wine()\n",
        "\n",
        "X = dataset4.data\n",
        "y = dataset4.target\n",
        "\n",
        "clf = DecisionTreeClassifier(criterion=\"gini\",ccp_alpha=0.015)\n",
        "acc=[]\n",
        "\n",
        "print('Dataset wine With pruning GINI Hold-out approach:')\n",
        "\n",
        "for i in range(1,101):\n",
        "    X_train, X_test, y_train, y_test = train_test_split(X, y, test_size=0.3) # 70% training and 30% test\n",
        "    clf=clf.fit(X_train,y_train)\n",
        "    y_pred = clf.predict(X_test)\n",
        "\n",
        "    acc.append(metrics.accuracy_score(y_test, y_pred))\n",
        "\n",
        "result.iloc[0][\"Dataset Wine\"] = mean(acc)\n",
        "mean(acc)\n"
      ],
      "execution_count": 0,
      "outputs": [
        {
          "output_type": "stream",
          "text": [
            "Dataset wine With pruning GINI Hold-out approach:\n"
          ],
          "name": "stdout"
        },
        {
          "output_type": "execute_result",
          "data": {
            "text/plain": [
              "0.9131481481481482"
            ]
          },
          "metadata": {
            "tags": []
          },
          "execution_count": 27
        }
      ]
    },
    {
      "cell_type": "code",
      "metadata": {
        "id": "ZfZJ-Tn14jDt",
        "colab_type": "code",
        "colab": {},
        "outputId": "61635a23-53af-4c1a-aa70-4c9011d1ba8d"
      },
      "source": [
        "dataset4 = sklearn.datasets.load_wine()\n",
        "\n",
        "X = dataset4.data\n",
        "y = dataset4.target\n",
        "\n",
        "clf = DecisionTreeClassifier(criterion=\"gini\")\n",
        "acc=[]\n",
        "\n",
        "print('Dataset wine Without pruning GINI Hold-out approach:')\n",
        "\n",
        "for i in range(1,101):\n",
        "    X_train, X_test, y_train, y_test = train_test_split(X, y, test_size=0.3) # 70% training and 30% test\n",
        "    clf=clf.fit(X_train,y_train)\n",
        "    y_pred = clf.predict(X_test)\n",
        "    \n",
        "    acc.append(metrics.accuracy_score(y_test, y_pred))\n",
        "\n",
        "result.iloc[1][\"Dataset Wine\"] = mean(acc)\n",
        "mean(acc)"
      ],
      "execution_count": 0,
      "outputs": [
        {
          "output_type": "stream",
          "text": [
            "Dataset wine Without pruning GINI Hold-out approach:\n"
          ],
          "name": "stdout"
        },
        {
          "output_type": "execute_result",
          "data": {
            "text/plain": [
              "0.91"
            ]
          },
          "metadata": {
            "tags": []
          },
          "execution_count": 28
        }
      ]
    },
    {
      "cell_type": "code",
      "metadata": {
        "id": "HZdBOsUt4jDx",
        "colab_type": "code",
        "colab": {},
        "outputId": "55ce5568-a2a1-4829-adc6-f080ba425a1c"
      },
      "source": [
        "dataset4 = sklearn.datasets.load_wine()\n",
        "\n",
        "X = dataset4.data\n",
        "y = dataset4.target\n",
        "\n",
        "clf = DecisionTreeClassifier(criterion=\"entropy\",ccp_alpha=0.015)\n",
        "acc=[]\n",
        "\n",
        "print('Dataset wine With pruning Entropy  Hold-out approach:')\n",
        "\n",
        "for i in range(1,101):\n",
        "    X_train, X_test, y_train, y_test = train_test_split(X, y, test_size=0.3) # 70% training and 30% test\n",
        "    clf=clf.fit(X_train,y_train)\n",
        "    y_pred = clf.predict(X_test)\n",
        "\n",
        "    acc.append(metrics.accuracy_score(y_test, y_pred))\n",
        "\n",
        "result.iloc[2][\"Dataset Wine\"] = mean(acc)\n",
        "mean(acc)"
      ],
      "execution_count": 0,
      "outputs": [
        {
          "output_type": "stream",
          "text": [
            "Dataset wine With pruning Entropy  Hold-out approach:\n"
          ],
          "name": "stdout"
        },
        {
          "output_type": "execute_result",
          "data": {
            "text/plain": [
              "0.917037037037037"
            ]
          },
          "metadata": {
            "tags": []
          },
          "execution_count": 29
        }
      ]
    },
    {
      "cell_type": "code",
      "metadata": {
        "id": "hnW8FeSx4jD2",
        "colab_type": "code",
        "colab": {},
        "outputId": "86be6a86-7219-46c4-a143-cc17d0d929b0"
      },
      "source": [
        "dataset4 = sklearn.datasets.load_wine()\n",
        "\n",
        "X = dataset4.data\n",
        "y = dataset4.target\n",
        "\n",
        "clf = DecisionTreeClassifier(criterion=\"entropy\")\n",
        "acc=[]\n",
        "\n",
        "print('Dataset wine Without using Entropy  Hold-out approach:')\n",
        "\n",
        "for i in range(1,101):\n",
        "    X_train, X_test, y_train, y_test = train_test_split(X, y, test_size=0.3) # 70% training and 30% test\n",
        "    clf=clf.fit(X_train,y_train)\n",
        "    y_pred = clf.predict(X_test)\n",
        "\n",
        "    acc.append(metrics.accuracy_score(y_test, y_pred))\n",
        "\n",
        "result.iloc[3][\"Dataset Wine\"] = mean(acc)\n",
        "mean(acc)"
      ],
      "execution_count": 0,
      "outputs": [
        {
          "output_type": "stream",
          "text": [
            "Dataset wine Without using Entropy  Hold-out approach:\n"
          ],
          "name": "stdout"
        },
        {
          "output_type": "execute_result",
          "data": {
            "text/plain": [
              "0.9188888888888889"
            ]
          },
          "metadata": {
            "tags": []
          },
          "execution_count": 30
        }
      ]
    },
    {
      "cell_type": "code",
      "metadata": {
        "id": "hYU1nb5L4jD9",
        "colab_type": "code",
        "colab": {},
        "outputId": "6405ad93-087e-45f4-a03a-8d5f9b51f0cd"
      },
      "source": [
        "dataset4 = sklearn.datasets.load_wine()\n",
        "\n",
        "X = dataset4.data\n",
        "y = dataset4.target\n",
        "\n",
        "clf = DecisionTreeClassifier(criterion=\"entropy\")\n",
        "acc=[]\n",
        "\n",
        "print('Dataset wine Without pruning Entropy  10*10 CV approach:')\n",
        "\n",
        "for i in range(1,11):\n",
        "    accuracies = cross_val_score(clf, X, y, cv=10)\n",
        "    acc.append(accuracies)\n",
        "\n",
        "result.iloc[4][\"Dataset Wine\"] = np.mean(acc)\n",
        "np.mean(acc)"
      ],
      "execution_count": 0,
      "outputs": [
        {
          "output_type": "stream",
          "text": [
            "Dataset wine Without pruning Entropy  10*10 CV approach:\n"
          ],
          "name": "stdout"
        },
        {
          "output_type": "execute_result",
          "data": {
            "text/plain": [
              "0.902516339869281"
            ]
          },
          "metadata": {
            "tags": []
          },
          "execution_count": 31
        }
      ]
    },
    {
      "cell_type": "code",
      "metadata": {
        "id": "ZjpXwVTm4jEC",
        "colab_type": "code",
        "colab": {},
        "outputId": "c9afee01-c711-4873-b7fd-a5622f3b4ab3"
      },
      "source": [
        "dataset4 = sklearn.datasets.load_wine()\n",
        "\n",
        "X = dataset4.data\n",
        "y = dataset4.target\n",
        "\n",
        "clf = DecisionTreeClassifier(criterion=\"entropy\",ccp_alpha=0.015)\n",
        "acc=[]\n",
        "\n",
        "print('Dataset wine With pruning Entropy  10*10 CV approach:')\n",
        "\n",
        "for i in range(1,11):\n",
        "    accuracies = cross_val_score(clf, X, y, cv=10)\n",
        "    acc.append(accuracies)\n",
        "\n",
        "result.iloc[5][\"Dataset Wine\"] = np.mean(acc)\n",
        "np.mean(acc)"
      ],
      "execution_count": 0,
      "outputs": [
        {
          "output_type": "stream",
          "text": [
            "Dataset wine With pruning Entropy  10*10 CV approach:\n"
          ],
          "name": "stdout"
        },
        {
          "output_type": "execute_result",
          "data": {
            "text/plain": [
              "0.9019607843137254"
            ]
          },
          "metadata": {
            "tags": []
          },
          "execution_count": 32
        }
      ]
    },
    {
      "cell_type": "code",
      "metadata": {
        "id": "JJHMzmQf4jEG",
        "colab_type": "code",
        "colab": {},
        "outputId": "23fcb43a-2915-4520-f2f9-1725c9b9b7f9"
      },
      "source": [
        "dataset4 = sklearn.datasets.load_wine()\n",
        "\n",
        "X = dataset4.data\n",
        "y = dataset4.target\n",
        "\n",
        "clf = DecisionTreeClassifier(criterion=\"gini\",ccp_alpha=0.015)\n",
        "acc=[]\n",
        "\n",
        "print('Dataset wine With pruning GINI  10*10 CV approach:')\n",
        "\n",
        "for i in range(1,11):\n",
        "    accuracies = cross_val_score(clf, X, y, cv=10)\n",
        "    acc.append(accuracies)\n",
        "\n",
        "result.iloc[6][\"Dataset Wine\"] = np.mean(acc)\n",
        "np.mean(acc)"
      ],
      "execution_count": 0,
      "outputs": [
        {
          "output_type": "stream",
          "text": [
            "Dataset wine With pruning GINI  10*10 CV approach:\n"
          ],
          "name": "stdout"
        },
        {
          "output_type": "execute_result",
          "data": {
            "text/plain": [
              "0.8918954248366013"
            ]
          },
          "metadata": {
            "tags": []
          },
          "execution_count": 33
        }
      ]
    },
    {
      "cell_type": "code",
      "metadata": {
        "id": "TakCD9l64jEN",
        "colab_type": "code",
        "colab": {},
        "outputId": "779d851e-677e-4834-d982-3f652f0c653c"
      },
      "source": [
        "dataset4 = sklearn.datasets.load_wine()\n",
        "\n",
        "X = dataset4.data\n",
        "y = dataset4.target\n",
        "\n",
        "clf = DecisionTreeClassifier(criterion=\"gini\")\n",
        "acc=[]\n",
        "\n",
        "print('Dataset wine Without pruning GINI  10*10 CV approach:')\n",
        "\n",
        "for i in range(1,11):\n",
        "    accuracies = cross_val_score(clf, X, y, cv=10)\n",
        "    acc.append(accuracies)\n",
        "\n",
        "result.iloc[7][\"Dataset Wine\"] = np.mean(acc)\n",
        "np.mean(acc)"
      ],
      "execution_count": 0,
      "outputs": [
        {
          "output_type": "stream",
          "text": [
            "Dataset wine Without pruning GINI  10*10 CV approach:\n"
          ],
          "name": "stdout"
        },
        {
          "output_type": "execute_result",
          "data": {
            "text/plain": [
              "0.8649346405228758"
            ]
          },
          "metadata": {
            "tags": []
          },
          "execution_count": 34
        }
      ]
    },
    {
      "cell_type": "code",
      "metadata": {
        "id": "kJpKDolb4jER",
        "colab_type": "code",
        "colab": {},
        "outputId": "f82b3b75-60e6-4e95-dd20-1b8fdd05bc64"
      },
      "source": [
        "result"
      ],
      "execution_count": 0,
      "outputs": [
        {
          "output_type": "execute_result",
          "data": {
            "text/html": [
              "<div>\n",
              "<style scoped>\n",
              "    .dataframe tbody tr th:only-of-type {\n",
              "        vertical-align: middle;\n",
              "    }\n",
              "\n",
              "    .dataframe tbody tr th {\n",
              "        vertical-align: top;\n",
              "    }\n",
              "\n",
              "    .dataframe thead th {\n",
              "        text-align: right;\n",
              "    }\n",
              "</style>\n",
              "<table border=\"1\" class=\"dataframe\">\n",
              "  <thead>\n",
              "    <tr style=\"text-align: right;\">\n",
              "      <th></th>\n",
              "      <th>Dataset Diabetes</th>\n",
              "      <th>Dataset Digits</th>\n",
              "      <th>Dataset Iris</th>\n",
              "      <th>Dataset Wine</th>\n",
              "      <th>Dataset Breast_Cancer</th>\n",
              "    </tr>\n",
              "  </thead>\n",
              "  <tbody>\n",
              "    <tr>\n",
              "      <th>DT Hold Out using gini (with pruning)</th>\n",
              "      <td>0.00293233</td>\n",
              "      <td>0.741481</td>\n",
              "      <td>0.946444</td>\n",
              "      <td>0.913148</td>\n",
              "      <td>NaN</td>\n",
              "    </tr>\n",
              "    <tr>\n",
              "      <th>DT Hold Out using gini (without pruning)</th>\n",
              "      <td>0.00473684</td>\n",
              "      <td>0.845852</td>\n",
              "      <td>0.944</td>\n",
              "      <td>0.91</td>\n",
              "      <td>NaN</td>\n",
              "    </tr>\n",
              "    <tr>\n",
              "      <th>DT Hold Out using entropy (with pruning)</th>\n",
              "      <td>0.00654135</td>\n",
              "      <td>0.825537</td>\n",
              "      <td>0.942889</td>\n",
              "      <td>0.917037</td>\n",
              "      <td>NaN</td>\n",
              "    </tr>\n",
              "    <tr>\n",
              "      <th>DT Hold Out using entropy (without pruning)</th>\n",
              "      <td>0.00556391</td>\n",
              "      <td>0.8565</td>\n",
              "      <td>0.940667</td>\n",
              "      <td>0.918889</td>\n",
              "      <td>NaN</td>\n",
              "    </tr>\n",
              "    <tr>\n",
              "      <th>DT using 10*10 Fold CV using gini (with pruning)</th>\n",
              "      <td>not possible</td>\n",
              "      <td>0.818427</td>\n",
              "      <td>0.954</td>\n",
              "      <td>0.902516</td>\n",
              "      <td>NaN</td>\n",
              "    </tr>\n",
              "    <tr>\n",
              "      <th>DT using 10*10 Fold CV using gini (without pruning)</th>\n",
              "      <td>not possible</td>\n",
              "      <td>0.773706</td>\n",
              "      <td>0.953333</td>\n",
              "      <td>0.901961</td>\n",
              "      <td>NaN</td>\n",
              "    </tr>\n",
              "    <tr>\n",
              "      <th>DT using 10*10 Fold CV using entropy (with pruning)</th>\n",
              "      <td>not possible</td>\n",
              "      <td>0.72897</td>\n",
              "      <td>0.966667</td>\n",
              "      <td>0.891895</td>\n",
              "      <td>NaN</td>\n",
              "    </tr>\n",
              "    <tr>\n",
              "      <th>DT using 10*10 Fold CV using entropy (without pruning)</th>\n",
              "      <td>not possible</td>\n",
              "      <td>0.827084</td>\n",
              "      <td>0.956</td>\n",
              "      <td>0.864935</td>\n",
              "      <td>NaN</td>\n",
              "    </tr>\n",
              "  </tbody>\n",
              "</table>\n",
              "</div>"
            ],
            "text/plain": [
              "                                                   Dataset Diabetes  \\\n",
              "DT Hold Out using gini (with pruning)                    0.00293233   \n",
              "DT Hold Out using gini (without pruning)                 0.00473684   \n",
              "DT Hold Out using entropy (with pruning)                 0.00654135   \n",
              "DT Hold Out using entropy (without pruning)              0.00556391   \n",
              "DT using 10*10 Fold CV using gini (with pruning)       not possible   \n",
              "DT using 10*10 Fold CV using gini (without prun...     not possible   \n",
              "DT using 10*10 Fold CV using entropy (with prun...     not possible   \n",
              "DT using 10*10 Fold CV using entropy (without p...     not possible   \n",
              "\n",
              "                                                   Dataset Digits  \\\n",
              "DT Hold Out using gini (with pruning)                    0.741481   \n",
              "DT Hold Out using gini (without pruning)                 0.845852   \n",
              "DT Hold Out using entropy (with pruning)                 0.825537   \n",
              "DT Hold Out using entropy (without pruning)                0.8565   \n",
              "DT using 10*10 Fold CV using gini (with pruning)         0.818427   \n",
              "DT using 10*10 Fold CV using gini (without prun...       0.773706   \n",
              "DT using 10*10 Fold CV using entropy (with prun...        0.72897   \n",
              "DT using 10*10 Fold CV using entropy (without p...       0.827084   \n",
              "\n",
              "                                                   Dataset Iris Dataset Wine  \\\n",
              "DT Hold Out using gini (with pruning)                  0.946444     0.913148   \n",
              "DT Hold Out using gini (without pruning)                  0.944         0.91   \n",
              "DT Hold Out using entropy (with pruning)               0.942889     0.917037   \n",
              "DT Hold Out using entropy (without pruning)            0.940667     0.918889   \n",
              "DT using 10*10 Fold CV using gini (with pruning)          0.954     0.902516   \n",
              "DT using 10*10 Fold CV using gini (without prun...     0.953333     0.901961   \n",
              "DT using 10*10 Fold CV using entropy (with prun...     0.966667     0.891895   \n",
              "DT using 10*10 Fold CV using entropy (without p...        0.956     0.864935   \n",
              "\n",
              "                                                   Dataset Breast_Cancer  \n",
              "DT Hold Out using gini (with pruning)                                NaN  \n",
              "DT Hold Out using gini (without pruning)                             NaN  \n",
              "DT Hold Out using entropy (with pruning)                             NaN  \n",
              "DT Hold Out using entropy (without pruning)                          NaN  \n",
              "DT using 10*10 Fold CV using gini (with pruning)                     NaN  \n",
              "DT using 10*10 Fold CV using gini (without prun...                   NaN  \n",
              "DT using 10*10 Fold CV using entropy (with prun...                   NaN  \n",
              "DT using 10*10 Fold CV using entropy (without p...                   NaN  "
            ]
          },
          "metadata": {
            "tags": []
          },
          "execution_count": 35
        }
      ]
    },
    {
      "cell_type": "code",
      "metadata": {
        "id": "XULyI-T74jEX",
        "colab_type": "code",
        "colab": {},
        "outputId": "5cb5670b-d5a5-42c2-e614-bc53445d6b92"
      },
      "source": [
        "dataset5 = sklearn.datasets.load_breast_cancer()\n",
        "\n",
        "X = dataset5.data\n",
        "y = dataset5.target\n",
        "\n",
        "clf = DecisionTreeClassifier(criterion=\"gini\",ccp_alpha=0.015)\n",
        "acc=[]\n",
        "\n",
        "print('Dataset breast cancer With pruning GINI Hold-out approach:')\n",
        "\n",
        "for i in range(1,101):\n",
        "    X_train, X_test, y_train, y_test = train_test_split(X, y, test_size=0.3) # 70% training and 30% test\n",
        "    clf=clf.fit(X_train,y_train)\n",
        "    y_pred = clf.predict(X_test)\n",
        "   \n",
        "    acc.append(metrics.accuracy_score(y_test, y_pred))\n",
        "\n",
        "result.iloc[0][\"Dataset Breast_Cancer\"] = mean(acc)\n",
        "mean(acc)"
      ],
      "execution_count": 0,
      "outputs": [
        {
          "output_type": "stream",
          "text": [
            "Dataset breast cancer With pruning GINI Hold-out approach:\n"
          ],
          "name": "stdout"
        },
        {
          "output_type": "execute_result",
          "data": {
            "text/plain": [
              "0.9275438596491228"
            ]
          },
          "metadata": {
            "tags": []
          },
          "execution_count": 36
        }
      ]
    },
    {
      "cell_type": "code",
      "metadata": {
        "id": "RywF61Bj4jEc",
        "colab_type": "code",
        "colab": {},
        "outputId": "a51e70ca-0646-484b-cc1f-047c827e32e4"
      },
      "source": [
        "dataset5 = sklearn.datasets.load_breast_cancer()\n",
        "\n",
        "X = dataset5.data\n",
        "y = dataset5.target\n",
        "\n",
        "clf = DecisionTreeClassifier(criterion=\"gini\")\n",
        "acc=[]\n",
        "\n",
        "print('Dataset breast cancer Without pruning GINI Hold-out approach:')\n",
        "\n",
        "for i in range(1,101):\n",
        "    X_train, X_test, y_train, y_test = train_test_split(X, y, test_size=0.3) # 70% training and 30% test\n",
        "    clf=clf.fit(X_train,y_train)\n",
        "    y_pred = clf.predict(X_test)\n",
        "\n",
        "    acc.append(metrics.accuracy_score(y_test, y_pred))\n",
        "\n",
        "result.iloc[1][\"Dataset Breast_Cancer\"] = mean(acc)\n",
        "mean(acc)"
      ],
      "execution_count": 0,
      "outputs": [
        {
          "output_type": "stream",
          "text": [
            "Dataset breast cancer Without pruning GINI Hold-out approach:\n"
          ],
          "name": "stdout"
        },
        {
          "output_type": "execute_result",
          "data": {
            "text/plain": [
              "0.9261988304093567"
            ]
          },
          "metadata": {
            "tags": []
          },
          "execution_count": 37
        }
      ]
    },
    {
      "cell_type": "code",
      "metadata": {
        "id": "Cq7ab9m44jEk",
        "colab_type": "code",
        "colab": {},
        "outputId": "26e4bd98-1eb3-4dad-dc11-ffd07d12fb3c"
      },
      "source": [
        "dataset5 = sklearn.datasets.load_breast_cancer()\n",
        "\n",
        "X = dataset5.data\n",
        "y = dataset5.target\n",
        "\n",
        "clf = DecisionTreeClassifier(criterion=\"entropy\",ccp_alpha=0.015)\n",
        "acc=[]\n",
        "\n",
        "print('Dataset breast cancer With pruning Entropy  Hold-out approach:')\n",
        "\n",
        "for i in range(1,101):\n",
        "    X_train, X_test, y_train, y_test = train_test_split(X, y, test_size=0.3) # 70% training and 30% test\n",
        "    clf=clf.fit(X_train,y_train)\n",
        "    y_pred = clf.predict(X_test)\n",
        "\n",
        "    acc.append(metrics.accuracy_score(y_test, y_pred))\n",
        "\n",
        "result.iloc[2][\"Dataset Breast_Cancer\"] = mean(acc)\n",
        "mean(acc)"
      ],
      "execution_count": 0,
      "outputs": [
        {
          "output_type": "stream",
          "text": [
            "Dataset breast cancer With pruning Entropy  Hold-out approach:\n"
          ],
          "name": "stdout"
        },
        {
          "output_type": "execute_result",
          "data": {
            "text/plain": [
              "0.9323976608187134"
            ]
          },
          "metadata": {
            "tags": []
          },
          "execution_count": 38
        }
      ]
    },
    {
      "cell_type": "code",
      "metadata": {
        "id": "97y44rJZ4jEo",
        "colab_type": "code",
        "colab": {},
        "outputId": "6d0916e9-d95d-47c0-e6ba-7eb2c36ce7e5"
      },
      "source": [
        "dataset5 = sklearn.datasets.load_breast_cancer()\n",
        "\n",
        "X = dataset5.data\n",
        "y = dataset5.target\n",
        "\n",
        "clf = DecisionTreeClassifier(criterion=\"entropy\")\n",
        "acc=[]\n",
        "\n",
        "print('Dataset breast cancer Without using Entropy  Hold-out approach:')\n",
        "\n",
        "for i in range(1,101):\n",
        "    X_train, X_test, y_train, y_test = train_test_split(X, y, test_size=0.3) # 70% training and 30% test\n",
        "    clf=clf.fit(X_train,y_train)\n",
        "    y_pred = clf.predict(X_test)\n",
        "\n",
        "    acc.append(metrics.accuracy_score(y_test, y_pred))\n",
        "\n",
        "result.iloc[3][\"Dataset Breast_Cancer\"] = mean(acc)\n",
        "mean(acc)"
      ],
      "execution_count": 0,
      "outputs": [
        {
          "output_type": "stream",
          "text": [
            "Dataset breast cancer Without using Entropy  Hold-out approach:\n"
          ],
          "name": "stdout"
        },
        {
          "output_type": "execute_result",
          "data": {
            "text/plain": [
              "0.9315789473684211"
            ]
          },
          "metadata": {
            "tags": []
          },
          "execution_count": 39
        }
      ]
    },
    {
      "cell_type": "code",
      "metadata": {
        "id": "e_OBAtNR4jEs",
        "colab_type": "code",
        "colab": {},
        "outputId": "2c84b934-e077-489d-8d46-06462702aa33"
      },
      "source": [
        "dataset5 = sklearn.datasets.load_breast_cancer()\n",
        "\n",
        "X = dataset5.data\n",
        "y = dataset5.target\n",
        "\n",
        "clf = DecisionTreeClassifier(criterion=\"entropy\")\n",
        "acc=[]\n",
        "\n",
        "print('Dataset breast cancer Without pruning Entropy  10*10 CV approach:')\n",
        "for i in range(1,11):\n",
        "    accuracies = cross_val_score(clf, X, y, cv=10)\n",
        "    acc.append(accuracies)\n",
        "\n",
        "result.iloc[4][\"Dataset Breast_Cancer\"] = np.mean(acc)\n",
        "np.mean(acc)"
      ],
      "execution_count": 0,
      "outputs": [
        {
          "output_type": "stream",
          "text": [
            "Dataset breast cancer Without pruning Entropy  10*10 CV approach:\n"
          ],
          "name": "stdout"
        },
        {
          "output_type": "execute_result",
          "data": {
            "text/plain": [
              "0.9319799498746866"
            ]
          },
          "metadata": {
            "tags": []
          },
          "execution_count": 40
        }
      ]
    },
    {
      "cell_type": "code",
      "metadata": {
        "id": "yaZ_0etc4jEv",
        "colab_type": "code",
        "colab": {},
        "outputId": "3d6337b3-552d-4838-dcac-39b06662cf87"
      },
      "source": [
        "dataset5 = sklearn.datasets.load_breast_cancer()\n",
        "\n",
        "X = dataset5.data\n",
        "y = dataset5.target\n",
        "\n",
        "clf = DecisionTreeClassifier(criterion=\"entropy\",ccp_alpha=0.015)\n",
        "acc=[]\n",
        "\n",
        "print('Dataset breast cancer With pruning Entropy  10*10 CV approach:')\n",
        "\n",
        "for i in range(1,11):\n",
        "    accuracies = cross_val_score(clf, X, y, cv=10)\n",
        "    acc.append(accuracies)\n",
        "\n",
        "result.iloc[5][\"Dataset Breast_Cancer\"] = np.mean(acc)\n",
        "np.mean(acc)"
      ],
      "execution_count": 0,
      "outputs": [
        {
          "output_type": "stream",
          "text": [
            "Dataset breast cancer With pruning Entropy  10*10 CV approach:\n"
          ],
          "name": "stdout"
        },
        {
          "output_type": "execute_result",
          "data": {
            "text/plain": [
              "0.9383239348370926"
            ]
          },
          "metadata": {
            "tags": []
          },
          "execution_count": 41
        }
      ]
    },
    {
      "cell_type": "code",
      "metadata": {
        "id": "1yUW_9UL4jEy",
        "colab_type": "code",
        "colab": {},
        "outputId": "298f6351-a3db-4c89-d01c-ca791a6e0d74"
      },
      "source": [
        "dataset5 = sklearn.datasets.load_breast_cancer()\n",
        "\n",
        "X = dataset5.data\n",
        "y = dataset5.target\n",
        "\n",
        "clf = DecisionTreeClassifier(criterion=\"gini\",ccp_alpha=0.015)\n",
        "acc=[]\n",
        "\n",
        "print('Dataset breast cancer With pruning GINI  10*10 CV approach:')\n",
        "\n",
        "for i in range(1,11):\n",
        "    accuracies = cross_val_score(clf, X, y, cv=10)\n",
        "    acc.append(accuracies)\n",
        "\n",
        "result.iloc[6][\"Dataset Breast_Cancer\"] = np.mean(acc)\n",
        "np.mean(acc)"
      ],
      "execution_count": 0,
      "outputs": [
        {
          "output_type": "stream",
          "text": [
            "Dataset breast cancer With pruning GINI  10*10 CV approach:\n"
          ],
          "name": "stdout"
        },
        {
          "output_type": "execute_result",
          "data": {
            "text/plain": [
              "0.9223872180451126"
            ]
          },
          "metadata": {
            "tags": []
          },
          "execution_count": 42
        }
      ]
    },
    {
      "cell_type": "code",
      "metadata": {
        "id": "kYZo1aKr4jE2",
        "colab_type": "code",
        "colab": {},
        "outputId": "0445b773-c704-49e6-f60a-8022b86f7ef6"
      },
      "source": [
        "dataset5 = sklearn.datasets.load_breast_cancer()\n",
        "\n",
        "X = dataset5.data\n",
        "y = dataset5.target\n",
        "\n",
        "clf = DecisionTreeClassifier(criterion=\"gini\")\n",
        "acc=[]\n",
        "\n",
        "print('Dataset breast cancer Without pruning GINI  10*10 CV approach:')\n",
        "\n",
        "for i in range(1,11):\n",
        "    accuracies = cross_val_score(clf, X, y, cv=10)\n",
        "    acc.append(accuracies)\n",
        "\n",
        "result.iloc[7][\"Dataset Breast_Cancer\"] = np.mean(acc)\n",
        "np.mean(acc)"
      ],
      "execution_count": 0,
      "outputs": [
        {
          "output_type": "stream",
          "text": [
            "Dataset breast cancer Without pruning GINI  10*10 CV approach:\n"
          ],
          "name": "stdout"
        },
        {
          "output_type": "execute_result",
          "data": {
            "text/plain": [
              "0.9120112781954886"
            ]
          },
          "metadata": {
            "tags": []
          },
          "execution_count": 43
        }
      ]
    },
    {
      "cell_type": "code",
      "metadata": {
        "id": "QjLhA6eK4jE5",
        "colab_type": "code",
        "colab": {},
        "outputId": "f6ae9045-b04c-4119-a8e5-b89539d19001"
      },
      "source": [
        "result"
      ],
      "execution_count": 0,
      "outputs": [
        {
          "output_type": "execute_result",
          "data": {
            "text/html": [
              "<div>\n",
              "<style scoped>\n",
              "    .dataframe tbody tr th:only-of-type {\n",
              "        vertical-align: middle;\n",
              "    }\n",
              "\n",
              "    .dataframe tbody tr th {\n",
              "        vertical-align: top;\n",
              "    }\n",
              "\n",
              "    .dataframe thead th {\n",
              "        text-align: right;\n",
              "    }\n",
              "</style>\n",
              "<table border=\"1\" class=\"dataframe\">\n",
              "  <thead>\n",
              "    <tr style=\"text-align: right;\">\n",
              "      <th></th>\n",
              "      <th>Dataset Diabetes</th>\n",
              "      <th>Dataset Digits</th>\n",
              "      <th>Dataset Iris</th>\n",
              "      <th>Dataset Wine</th>\n",
              "      <th>Dataset Breast_Cancer</th>\n",
              "    </tr>\n",
              "  </thead>\n",
              "  <tbody>\n",
              "    <tr>\n",
              "      <th>DT Hold Out using gini (with pruning)</th>\n",
              "      <td>0.00293233</td>\n",
              "      <td>0.741481</td>\n",
              "      <td>0.946444</td>\n",
              "      <td>0.913148</td>\n",
              "      <td>0.927544</td>\n",
              "    </tr>\n",
              "    <tr>\n",
              "      <th>DT Hold Out using gini (without pruning)</th>\n",
              "      <td>0.00473684</td>\n",
              "      <td>0.845852</td>\n",
              "      <td>0.944</td>\n",
              "      <td>0.91</td>\n",
              "      <td>0.926199</td>\n",
              "    </tr>\n",
              "    <tr>\n",
              "      <th>DT Hold Out using entropy (with pruning)</th>\n",
              "      <td>0.00654135</td>\n",
              "      <td>0.825537</td>\n",
              "      <td>0.942889</td>\n",
              "      <td>0.917037</td>\n",
              "      <td>0.932398</td>\n",
              "    </tr>\n",
              "    <tr>\n",
              "      <th>DT Hold Out using entropy (without pruning)</th>\n",
              "      <td>0.00556391</td>\n",
              "      <td>0.8565</td>\n",
              "      <td>0.940667</td>\n",
              "      <td>0.918889</td>\n",
              "      <td>0.931579</td>\n",
              "    </tr>\n",
              "    <tr>\n",
              "      <th>DT using 10*10 Fold CV using gini (with pruning)</th>\n",
              "      <td>not possible</td>\n",
              "      <td>0.818427</td>\n",
              "      <td>0.954</td>\n",
              "      <td>0.902516</td>\n",
              "      <td>0.93198</td>\n",
              "    </tr>\n",
              "    <tr>\n",
              "      <th>DT using 10*10 Fold CV using gini (without pruning)</th>\n",
              "      <td>not possible</td>\n",
              "      <td>0.773706</td>\n",
              "      <td>0.953333</td>\n",
              "      <td>0.901961</td>\n",
              "      <td>0.938324</td>\n",
              "    </tr>\n",
              "    <tr>\n",
              "      <th>DT using 10*10 Fold CV using entropy (with pruning)</th>\n",
              "      <td>not possible</td>\n",
              "      <td>0.72897</td>\n",
              "      <td>0.966667</td>\n",
              "      <td>0.891895</td>\n",
              "      <td>0.922387</td>\n",
              "    </tr>\n",
              "    <tr>\n",
              "      <th>DT using 10*10 Fold CV using entropy (without pruning)</th>\n",
              "      <td>not possible</td>\n",
              "      <td>0.827084</td>\n",
              "      <td>0.956</td>\n",
              "      <td>0.864935</td>\n",
              "      <td>0.912011</td>\n",
              "    </tr>\n",
              "  </tbody>\n",
              "</table>\n",
              "</div>"
            ],
            "text/plain": [
              "                                                   Dataset Diabetes  \\\n",
              "DT Hold Out using gini (with pruning)                    0.00293233   \n",
              "DT Hold Out using gini (without pruning)                 0.00473684   \n",
              "DT Hold Out using entropy (with pruning)                 0.00654135   \n",
              "DT Hold Out using entropy (without pruning)              0.00556391   \n",
              "DT using 10*10 Fold CV using gini (with pruning)       not possible   \n",
              "DT using 10*10 Fold CV using gini (without prun...     not possible   \n",
              "DT using 10*10 Fold CV using entropy (with prun...     not possible   \n",
              "DT using 10*10 Fold CV using entropy (without p...     not possible   \n",
              "\n",
              "                                                   Dataset Digits  \\\n",
              "DT Hold Out using gini (with pruning)                    0.741481   \n",
              "DT Hold Out using gini (without pruning)                 0.845852   \n",
              "DT Hold Out using entropy (with pruning)                 0.825537   \n",
              "DT Hold Out using entropy (without pruning)                0.8565   \n",
              "DT using 10*10 Fold CV using gini (with pruning)         0.818427   \n",
              "DT using 10*10 Fold CV using gini (without prun...       0.773706   \n",
              "DT using 10*10 Fold CV using entropy (with prun...        0.72897   \n",
              "DT using 10*10 Fold CV using entropy (without p...       0.827084   \n",
              "\n",
              "                                                   Dataset Iris Dataset Wine  \\\n",
              "DT Hold Out using gini (with pruning)                  0.946444     0.913148   \n",
              "DT Hold Out using gini (without pruning)                  0.944         0.91   \n",
              "DT Hold Out using entropy (with pruning)               0.942889     0.917037   \n",
              "DT Hold Out using entropy (without pruning)            0.940667     0.918889   \n",
              "DT using 10*10 Fold CV using gini (with pruning)          0.954     0.902516   \n",
              "DT using 10*10 Fold CV using gini (without prun...     0.953333     0.901961   \n",
              "DT using 10*10 Fold CV using entropy (with prun...     0.966667     0.891895   \n",
              "DT using 10*10 Fold CV using entropy (without p...        0.956     0.864935   \n",
              "\n",
              "                                                   Dataset Breast_Cancer  \n",
              "DT Hold Out using gini (with pruning)                           0.927544  \n",
              "DT Hold Out using gini (without pruning)                        0.926199  \n",
              "DT Hold Out using entropy (with pruning)                        0.932398  \n",
              "DT Hold Out using entropy (without pruning)                     0.931579  \n",
              "DT using 10*10 Fold CV using gini (with pruning)                 0.93198  \n",
              "DT using 10*10 Fold CV using gini (without prun...              0.938324  \n",
              "DT using 10*10 Fold CV using entropy (with prun...              0.922387  \n",
              "DT using 10*10 Fold CV using entropy (without p...              0.912011  "
            ]
          },
          "metadata": {
            "tags": []
          },
          "execution_count": 44
        }
      ]
    },
    {
      "cell_type": "code",
      "metadata": {
        "id": "ewjSm7_G4jE9",
        "colab_type": "code",
        "colab": {}
      },
      "source": [
        ""
      ],
      "execution_count": 0,
      "outputs": []
    }
  ]
}